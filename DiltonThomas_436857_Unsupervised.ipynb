{
 "cells": [
  {
   "cell_type": "code",
   "execution_count": 142,
   "id": "843b891d",
   "metadata": {},
   "outputs": [],
   "source": [
    "import pandas as pd\n",
    "import numpy as np\n",
    "import plotly.express as px\n",
    "from plotly.offline import plot\n",
    "import seaborn as sns\n",
    "import matplotlib.pyplot as plt\n",
    "\n",
    "from pca import pca\n",
    "\n",
    "import warnings\n",
    "warnings.filterwarnings('ignore')\n"
   ]
  },
  {
   "cell_type": "markdown",
   "id": "e602f895",
   "metadata": {},
   "source": [
    "# Background\n",
    "The data used for final assignment for supervised learning is the Intermediate dataset. The goal of this assignment is to use unsupervised machine learnign methods to find patterns or clusters in the input data.Two datatsets were used in this assignment. One conatins the gene expression data of subjects wth lungs cancer and other contains the information such as gender, tumor size, location of cancer etc.Both data sets contain 89 subjects or samples.\n",
    "Since no labeeling or classes are used for making the model in the assignment , unsupervised machine learning models are implemented."
   ]
  },
  {
   "cell_type": "markdown",
   "id": "91098e0f",
   "metadata": {},
   "source": [
    "## 1.Data loading and inspection\n",
    "This part shows reading the data into dataframe and some analysis on dataframe such as df. describe, df.info etc."
   ]
  },
  {
   "cell_type": "code",
   "execution_count": 143,
   "id": "8920d7d0",
   "metadata": {},
   "outputs": [],
   "source": [
    "path='C:\\\\Dilton G\\Hanze_University\\\\S2_Q4  Hanze\\\\Data_Science3_Prediction\\\\Unsupervised learning'\n",
    "file='\\Lung3.metadata.xls'\n",
    "# Reading the lungs data\n",
    "lungs_df=pd.read_excel(path + file,)\n",
    "# Reading the gene expresison data\n",
    "gene_df=pd.read_csv(path+'\\GSE58661_series_matrix.txt',skiprows=62,sep='\\t',)"
   ]
  },
  {
   "cell_type": "code",
   "execution_count": 144,
   "id": "5f069d62",
   "metadata": {},
   "outputs": [
    {
     "name": "stdout",
     "output_type": "stream",
     "text": [
      "sample.name                                       0\n",
      "title                                             0\n",
      "CEL.file                                          0\n",
      "source.location                                   0\n",
      "organism                                          0\n",
      "characteristics.tag.gender                        0\n",
      "characteristics.tag.histology                     0\n",
      "characteristics.tag.tumor.size.maximumdiameter    1\n",
      "characteristics.tag.stage.primary.tumor           0\n",
      "characteristics.tag.stage.nodes                   0\n",
      "characteristics.tag.stage.mets                    0\n",
      "characteristics.tag.primaryVSmets                 0\n",
      "characteristics.tag.grade                         0\n",
      "molecule tested                                   0\n",
      "label                                             0\n",
      "platform                                          0\n",
      "dtype: int64\n",
      "ID_REF        0\n",
      "GSM1416528    1\n",
      "GSM1416529    1\n",
      "GSM1416530    1\n",
      "GSM1416531    1\n",
      "             ..\n",
      "GSM1416612    1\n",
      "GSM1416613    1\n",
      "GSM1416614    1\n",
      "GSM1416615    1\n",
      "GSM1416616    1\n",
      "Length: 90, dtype: int64\n"
     ]
    }
   ],
   "source": [
    "print(lungs_df.isnull().sum())\n",
    "print(gene_df.isnull().sum())"
   ]
  },
  {
   "cell_type": "markdown",
   "id": "35b1c918",
   "metadata": {},
   "source": [
    "There is one missing column in gene data set and one nan value in tumour size column. The one missing column is removed in the subsequent analysis."
   ]
  },
  {
   "cell_type": "code",
   "execution_count": 145,
   "id": "9aec8319",
   "metadata": {},
   "outputs": [
    {
     "name": "stdout",
     "output_type": "stream",
     "text": [
      "(60608, 90)\n",
      "(89, 16)\n",
      "<class 'pandas.core.frame.DataFrame'>\n",
      "RangeIndex: 60608 entries, 0 to 60607\n",
      "Data columns (total 90 columns):\n",
      " #   Column      Non-Null Count  Dtype  \n",
      "---  ------      --------------  -----  \n",
      " 0   ID_REF      60608 non-null  object \n",
      " 1   GSM1416528  60607 non-null  float64\n",
      " 2   GSM1416529  60607 non-null  float64\n",
      " 3   GSM1416530  60607 non-null  float64\n",
      " 4   GSM1416531  60607 non-null  float64\n",
      " 5   GSM1416532  60607 non-null  float64\n",
      " 6   GSM1416533  60607 non-null  float64\n",
      " 7   GSM1416534  60607 non-null  float64\n",
      " 8   GSM1416535  60607 non-null  float64\n",
      " 9   GSM1416536  60607 non-null  float64\n",
      " 10  GSM1416537  60607 non-null  float64\n",
      " 11  GSM1416538  60607 non-null  float64\n",
      " 12  GSM1416539  60607 non-null  float64\n",
      " 13  GSM1416540  60607 non-null  float64\n",
      " 14  GSM1416541  60607 non-null  float64\n",
      " 15  GSM1416542  60607 non-null  float64\n",
      " 16  GSM1416543  60607 non-null  float64\n",
      " 17  GSM1416544  60607 non-null  float64\n",
      " 18  GSM1416545  60607 non-null  float64\n",
      " 19  GSM1416546  60607 non-null  float64\n",
      " 20  GSM1416547  60607 non-null  float64\n",
      " 21  GSM1416548  60607 non-null  float64\n",
      " 22  GSM1416549  60607 non-null  float64\n",
      " 23  GSM1416550  60607 non-null  float64\n",
      " 24  GSM1416551  60607 non-null  float64\n",
      " 25  GSM1416552  60607 non-null  float64\n",
      " 26  GSM1416553  60607 non-null  float64\n",
      " 27  GSM1416554  60607 non-null  float64\n",
      " 28  GSM1416555  60607 non-null  float64\n",
      " 29  GSM1416556  60607 non-null  float64\n",
      " 30  GSM1416557  60607 non-null  float64\n",
      " 31  GSM1416558  60607 non-null  float64\n",
      " 32  GSM1416559  60607 non-null  float64\n",
      " 33  GSM1416560  60607 non-null  float64\n",
      " 34  GSM1416561  60607 non-null  float64\n",
      " 35  GSM1416562  60607 non-null  float64\n",
      " 36  GSM1416563  60607 non-null  float64\n",
      " 37  GSM1416564  60607 non-null  float64\n",
      " 38  GSM1416565  60607 non-null  float64\n",
      " 39  GSM1416566  60607 non-null  float64\n",
      " 40  GSM1416567  60607 non-null  float64\n",
      " 41  GSM1416568  60607 non-null  float64\n",
      " 42  GSM1416569  60607 non-null  float64\n",
      " 43  GSM1416570  60607 non-null  float64\n",
      " 44  GSM1416571  60607 non-null  float64\n",
      " 45  GSM1416572  60607 non-null  float64\n",
      " 46  GSM1416573  60607 non-null  float64\n",
      " 47  GSM1416574  60607 non-null  float64\n",
      " 48  GSM1416575  60607 non-null  float64\n",
      " 49  GSM1416576  60607 non-null  float64\n",
      " 50  GSM1416577  60607 non-null  float64\n",
      " 51  GSM1416578  60607 non-null  float64\n",
      " 52  GSM1416579  60607 non-null  float64\n",
      " 53  GSM1416580  60607 non-null  float64\n",
      " 54  GSM1416581  60607 non-null  float64\n",
      " 55  GSM1416582  60607 non-null  float64\n",
      " 56  GSM1416583  60607 non-null  float64\n",
      " 57  GSM1416584  60607 non-null  float64\n",
      " 58  GSM1416585  60607 non-null  float64\n",
      " 59  GSM1416586  60607 non-null  float64\n",
      " 60  GSM1416587  60607 non-null  float64\n",
      " 61  GSM1416588  60607 non-null  float64\n",
      " 62  GSM1416589  60607 non-null  float64\n",
      " 63  GSM1416590  60607 non-null  float64\n",
      " 64  GSM1416591  60607 non-null  float64\n",
      " 65  GSM1416592  60607 non-null  float64\n",
      " 66  GSM1416593  60607 non-null  float64\n",
      " 67  GSM1416594  60607 non-null  float64\n",
      " 68  GSM1416595  60607 non-null  float64\n",
      " 69  GSM1416596  60607 non-null  float64\n",
      " 70  GSM1416597  60607 non-null  float64\n",
      " 71  GSM1416598  60607 non-null  float64\n",
      " 72  GSM1416599  60607 non-null  float64\n",
      " 73  GSM1416600  60607 non-null  float64\n",
      " 74  GSM1416601  60607 non-null  float64\n",
      " 75  GSM1416602  60607 non-null  float64\n",
      " 76  GSM1416603  60607 non-null  float64\n",
      " 77  GSM1416604  60607 non-null  float64\n",
      " 78  GSM1416605  60607 non-null  float64\n",
      " 79  GSM1416606  60607 non-null  float64\n",
      " 80  GSM1416607  60607 non-null  float64\n",
      " 81  GSM1416608  60607 non-null  float64\n",
      " 82  GSM1416609  60607 non-null  float64\n",
      " 83  GSM1416610  60607 non-null  float64\n",
      " 84  GSM1416611  60607 non-null  float64\n",
      " 85  GSM1416612  60607 non-null  float64\n",
      " 86  GSM1416613  60607 non-null  float64\n",
      " 87  GSM1416614  60607 non-null  float64\n",
      " 88  GSM1416615  60607 non-null  float64\n",
      " 89  GSM1416616  60607 non-null  float64\n",
      "dtypes: float64(89), object(1)\n",
      "memory usage: 41.6+ MB\n",
      "None\n"
     ]
    }
   ],
   "source": [
    "print(gene_df.shape)\n",
    "print(lungs_df.shape)\n",
    "\n",
    "\n",
    "print(gene_df.info())\n"
   ]
  },
  {
   "cell_type": "code",
   "execution_count": 146,
   "id": "352856a2",
   "metadata": {},
   "outputs": [
    {
     "data": {
      "text/html": [
       "<div>\n",
       "<style scoped>\n",
       "    .dataframe tbody tr th:only-of-type {\n",
       "        vertical-align: middle;\n",
       "    }\n",
       "\n",
       "    .dataframe tbody tr th {\n",
       "        vertical-align: top;\n",
       "    }\n",
       "\n",
       "    .dataframe thead th {\n",
       "        text-align: right;\n",
       "    }\n",
       "</style>\n",
       "<table border=\"1\" class=\"dataframe\">\n",
       "  <thead>\n",
       "    <tr style=\"text-align: right;\">\n",
       "      <th></th>\n",
       "      <th>ID_REF</th>\n",
       "      <th>GSM1416528</th>\n",
       "      <th>GSM1416529</th>\n",
       "      <th>GSM1416530</th>\n",
       "      <th>GSM1416531</th>\n",
       "      <th>GSM1416532</th>\n",
       "      <th>GSM1416533</th>\n",
       "      <th>GSM1416534</th>\n",
       "      <th>GSM1416535</th>\n",
       "      <th>GSM1416536</th>\n",
       "      <th>...</th>\n",
       "      <th>GSM1416607</th>\n",
       "      <th>GSM1416608</th>\n",
       "      <th>GSM1416609</th>\n",
       "      <th>GSM1416610</th>\n",
       "      <th>GSM1416611</th>\n",
       "      <th>GSM1416612</th>\n",
       "      <th>GSM1416613</th>\n",
       "      <th>GSM1416614</th>\n",
       "      <th>GSM1416615</th>\n",
       "      <th>GSM1416616</th>\n",
       "    </tr>\n",
       "  </thead>\n",
       "  <tbody>\n",
       "    <tr>\n",
       "      <th>60603</th>\n",
       "      <td>merck2-Z70222_a_at</td>\n",
       "      <td>6.892053</td>\n",
       "      <td>5.513603</td>\n",
       "      <td>6.112918</td>\n",
       "      <td>6.276813</td>\n",
       "      <td>7.041829</td>\n",
       "      <td>7.560786</td>\n",
       "      <td>7.446324</td>\n",
       "      <td>7.821045</td>\n",
       "      <td>7.465401</td>\n",
       "      <td>...</td>\n",
       "      <td>7.028523</td>\n",
       "      <td>6.229570</td>\n",
       "      <td>7.543618</td>\n",
       "      <td>7.518894</td>\n",
       "      <td>6.541189</td>\n",
       "      <td>6.493021</td>\n",
       "      <td>7.952822</td>\n",
       "      <td>6.978308</td>\n",
       "      <td>7.460604</td>\n",
       "      <td>7.519374</td>\n",
       "    </tr>\n",
       "    <tr>\n",
       "      <th>60604</th>\n",
       "      <td>merck2-Z70608_x_at</td>\n",
       "      <td>1.777216</td>\n",
       "      <td>1.940099</td>\n",
       "      <td>1.753519</td>\n",
       "      <td>1.889742</td>\n",
       "      <td>1.686633</td>\n",
       "      <td>1.988420</td>\n",
       "      <td>1.723665</td>\n",
       "      <td>2.029634</td>\n",
       "      <td>1.986343</td>\n",
       "      <td>...</td>\n",
       "      <td>3.246869</td>\n",
       "      <td>1.910438</td>\n",
       "      <td>1.910438</td>\n",
       "      <td>2.054199</td>\n",
       "      <td>1.730252</td>\n",
       "      <td>1.924313</td>\n",
       "      <td>1.783032</td>\n",
       "      <td>1.371800</td>\n",
       "      <td>1.811532</td>\n",
       "      <td>2.444065</td>\n",
       "    </tr>\n",
       "    <tr>\n",
       "      <th>60605</th>\n",
       "      <td>merck2-Z72499_a_at</td>\n",
       "      <td>9.031084</td>\n",
       "      <td>9.527973</td>\n",
       "      <td>9.515653</td>\n",
       "      <td>9.383670</td>\n",
       "      <td>9.464486</td>\n",
       "      <td>9.558521</td>\n",
       "      <td>9.651009</td>\n",
       "      <td>9.479608</td>\n",
       "      <td>9.417764</td>\n",
       "      <td>...</td>\n",
       "      <td>9.349558</td>\n",
       "      <td>9.377011</td>\n",
       "      <td>9.379870</td>\n",
       "      <td>9.398441</td>\n",
       "      <td>9.269749</td>\n",
       "      <td>9.223950</td>\n",
       "      <td>9.481911</td>\n",
       "      <td>9.632680</td>\n",
       "      <td>9.313734</td>\n",
       "      <td>9.527973</td>\n",
       "    </tr>\n",
       "    <tr>\n",
       "      <th>60606</th>\n",
       "      <td>merck2-Z75331_a_at</td>\n",
       "      <td>7.284069</td>\n",
       "      <td>6.985508</td>\n",
       "      <td>6.556233</td>\n",
       "      <td>7.293852</td>\n",
       "      <td>6.244336</td>\n",
       "      <td>5.562862</td>\n",
       "      <td>6.933691</td>\n",
       "      <td>6.389961</td>\n",
       "      <td>6.860160</td>\n",
       "      <td>...</td>\n",
       "      <td>6.622611</td>\n",
       "      <td>6.406113</td>\n",
       "      <td>6.642260</td>\n",
       "      <td>6.292372</td>\n",
       "      <td>6.618915</td>\n",
       "      <td>5.817185</td>\n",
       "      <td>7.487134</td>\n",
       "      <td>7.410402</td>\n",
       "      <td>6.396247</td>\n",
       "      <td>5.605377</td>\n",
       "    </tr>\n",
       "    <tr>\n",
       "      <th>60607</th>\n",
       "      <td>!series_matrix_table_end</td>\n",
       "      <td>NaN</td>\n",
       "      <td>NaN</td>\n",
       "      <td>NaN</td>\n",
       "      <td>NaN</td>\n",
       "      <td>NaN</td>\n",
       "      <td>NaN</td>\n",
       "      <td>NaN</td>\n",
       "      <td>NaN</td>\n",
       "      <td>NaN</td>\n",
       "      <td>...</td>\n",
       "      <td>NaN</td>\n",
       "      <td>NaN</td>\n",
       "      <td>NaN</td>\n",
       "      <td>NaN</td>\n",
       "      <td>NaN</td>\n",
       "      <td>NaN</td>\n",
       "      <td>NaN</td>\n",
       "      <td>NaN</td>\n",
       "      <td>NaN</td>\n",
       "      <td>NaN</td>\n",
       "    </tr>\n",
       "  </tbody>\n",
       "</table>\n",
       "<p>5 rows × 90 columns</p>\n",
       "</div>"
      ],
      "text/plain": [
       "                         ID_REF  GSM1416528  GSM1416529  GSM1416530  \\\n",
       "60603        merck2-Z70222_a_at    6.892053    5.513603    6.112918   \n",
       "60604        merck2-Z70608_x_at    1.777216    1.940099    1.753519   \n",
       "60605        merck2-Z72499_a_at    9.031084    9.527973    9.515653   \n",
       "60606        merck2-Z75331_a_at    7.284069    6.985508    6.556233   \n",
       "60607  !series_matrix_table_end         NaN         NaN         NaN   \n",
       "\n",
       "       GSM1416531  GSM1416532  GSM1416533  GSM1416534  GSM1416535  GSM1416536  \\\n",
       "60603    6.276813    7.041829    7.560786    7.446324    7.821045    7.465401   \n",
       "60604    1.889742    1.686633    1.988420    1.723665    2.029634    1.986343   \n",
       "60605    9.383670    9.464486    9.558521    9.651009    9.479608    9.417764   \n",
       "60606    7.293852    6.244336    5.562862    6.933691    6.389961    6.860160   \n",
       "60607         NaN         NaN         NaN         NaN         NaN         NaN   \n",
       "\n",
       "       ...  GSM1416607  GSM1416608  GSM1416609  GSM1416610  GSM1416611  \\\n",
       "60603  ...    7.028523    6.229570    7.543618    7.518894    6.541189   \n",
       "60604  ...    3.246869    1.910438    1.910438    2.054199    1.730252   \n",
       "60605  ...    9.349558    9.377011    9.379870    9.398441    9.269749   \n",
       "60606  ...    6.622611    6.406113    6.642260    6.292372    6.618915   \n",
       "60607  ...         NaN         NaN         NaN         NaN         NaN   \n",
       "\n",
       "       GSM1416612  GSM1416613  GSM1416614  GSM1416615  GSM1416616  \n",
       "60603    6.493021    7.952822    6.978308    7.460604    7.519374  \n",
       "60604    1.924313    1.783032    1.371800    1.811532    2.444065  \n",
       "60605    9.223950    9.481911    9.632680    9.313734    9.527973  \n",
       "60606    5.817185    7.487134    7.410402    6.396247    5.605377  \n",
       "60607         NaN         NaN         NaN         NaN         NaN  \n",
       "\n",
       "[5 rows x 90 columns]"
      ]
     },
     "execution_count": 146,
     "metadata": {},
     "output_type": "execute_result"
    }
   ],
   "source": [
    "gene_df.tail()"
   ]
  },
  {
   "cell_type": "markdown",
   "id": "5fb6cd39",
   "metadata": {},
   "source": [
    "The gene dataframe is transposed and has nan entries in the last row. Hence some preprocesisng of gene datafreame is needed. \n",
    "The following part transposes the gene dataframe and drop the last row to get equal samples with lungs dataset"
   ]
  },
  {
   "cell_type": "code",
   "execution_count": 147,
   "id": "808e6d1d",
   "metadata": {},
   "outputs": [],
   "source": [
    "#transposing the gene df\n",
    "transpose_df=gene_df.T\n",
    "#setting the index to subjects\n",
    "transpose_df.set_axis(list(transpose_df.loc['ID_REF']),axis=1,inplace=True)\n",
    "#dropping the last column\n",
    "transpose_df.drop('ID_REF',inplace=True)\n",
    "transpose_df.tail()\n",
    "transpose_df=transpose_df.iloc[:,:-1]\n",
    "#chnaging data type to number\n",
    "transpose_df = transpose_df.apply(pd.to_numeric)\n",
    "   \n"
   ]
  },
  {
   "cell_type": "markdown",
   "id": "9e84198b",
   "metadata": {},
   "source": [
    "Some columns of the lungs dataframe are renamed and the data type is changed."
   ]
  },
  {
   "cell_type": "code",
   "execution_count": 148,
   "id": "69816d35",
   "metadata": {},
   "outputs": [
    {
     "name": "stdout",
     "output_type": "stream",
     "text": [
      "<class 'pandas.core.frame.DataFrame'>\n",
      "RangeIndex: 89 entries, 0 to 88\n",
      "Data columns (total 16 columns):\n",
      " #   Column                                          Non-Null Count  Dtype  \n",
      "---  ------                                          --------------  -----  \n",
      " 0   sample.name                                     89 non-null     object \n",
      " 1   title                                           89 non-null     object \n",
      " 2   CEL.file                                        89 non-null     object \n",
      " 3   source.location                                 89 non-null     object \n",
      " 4   organism                                        89 non-null     object \n",
      " 5   characteristics.tag.gender                      89 non-null     object \n",
      " 6   characteristics.tag.histology                   89 non-null     object \n",
      " 7   characteristics.tag.tumor.size.maximumdiameter  88 non-null     float64\n",
      " 8   characteristics.tag.stage.primary.tumor         89 non-null     object \n",
      " 9   characteristics.tag.stage.nodes                 89 non-null     object \n",
      " 10  characteristics.tag.stage.mets                  89 non-null     object \n",
      " 11  characteristics.tag.primaryVSmets               89 non-null     object \n",
      " 12  characteristics.tag.grade                       89 non-null     object \n",
      " 13  molecule tested                                 89 non-null     object \n",
      " 14  label                                           89 non-null     object \n",
      " 15  platform                                        89 non-null     object \n",
      "dtypes: float64(1), object(15)\n",
      "memory usage: 11.2+ KB\n",
      "None\n",
      "       characteristics.tag.tumor.size.maximumdiameter\n",
      "count                                       88.000000\n",
      "mean                                         4.403409\n",
      "std                                          2.995992\n",
      "min                                          1.000000\n",
      "25%                                          2.300000\n",
      "50%                                          3.500000\n",
      "75%                                          5.500000\n",
      "max                                         21.000000\n"
     ]
    }
   ],
   "source": [
    "print(lungs_df.info())\n",
    "lungs_df.isnull().sum()\n",
    "print(lungs_df.describe())\n",
    "lungs_df.rename(columns={\"characteristics.tag.gender\":'Gender','characteristics.tag.histology':'cancer',' characteristics.tag.tumor.size.maximumdiameter':'Tumor_size'},inplace=True)\n",
    "lungs_df[['Gender','cancer','source.location']]=lungs_df[['Gender','cancer','source.location']].astype('category')"
   ]
  },
  {
   "cell_type": "code",
   "execution_count": 149,
   "id": "33ca7c76",
   "metadata": {},
   "outputs": [
    {
     "data": {
      "text/plain": [
       "Squamous Cell Carcinoma, NOS                                            33\n",
       "Adenocarcinoma, NOS                                                     25\n",
       "Non-Small Cell                                                           7\n",
       "Adenocarcinoma, Bronchiolo-alveolar Features                             4\n",
       "Adenocarcinoma, Papillary, NOS                                           4\n",
       "Adenocarcinoma, Acinar Type                                              3\n",
       "Solid Type And Acinar                                                    2\n",
       "Adenocarcinoma With Papillary Features                                   2\n",
       "Adenocarcinoma With Mucinous Features                                    1\n",
       "Squamous Cell Carcinoma, Other (Specify)endobronchial                    1\n",
       "Squamous Cell Carcinoma, Other (Specify) with adeno features             1\n",
       "Carcinoma, Large Cell, Neuroendocrine                                    1\n",
       "Papillary Type AND      Adenocarcinoma, Bronchiolo-alveolar Features     1\n",
       "Non-Small Cell, Pleomorphic Type                                         1\n",
       "Adenocarcinoma, Mucinous With Bronchiolo-alveolar Features               1\n",
       "Adenocarcinoma, Mixed                                                    1\n",
       "Squamous Cell Carcinoma, Papillary                                       1\n",
       "Name: cancer, dtype: int64"
      ]
     },
     "execution_count": 149,
     "metadata": {},
     "output_type": "execute_result"
    }
   ],
   "source": [
    "lungs_df['cancer'].value_counts()"
   ]
  },
  {
   "cell_type": "markdown",
   "id": "068cc58d",
   "metadata": {},
   "source": [
    "As seen from above squamous and adenocarcinoma types are repeating. Hence I regrouped to three categories namely Squamous,Adenocarcinoma and Others to  make the labels more clear. The below function does the regrouping."
   ]
  },
  {
   "cell_type": "code",
   "execution_count": 150,
   "id": "5315561f",
   "metadata": {},
   "outputs": [],
   "source": [
    "def cancer(x):\n",
    "    if 'Squamous' in x:\n",
    "        return 'Squamous'\n",
    "    elif 'Adenocarcinoma' in x:\n",
    "        return 'Adenocarcinoma'\n",
    "    else:\n",
    "        return 'Others'\n",
    "lungs_df['cancer_type']=lungs_df['cancer'].apply(lambda x:cancer(x)).astype('category')"
   ]
  },
  {
   "cell_type": "code",
   "execution_count": 151,
   "id": "becf853b",
   "metadata": {},
   "outputs": [
    {
     "data": {
      "image/png": "[encoded data removed]",
      "text/plain": [
       "<Figure size 360x360 with 1 Axes>"
      ]
     },
     "metadata": {
      "needs_background": "light"
     },
     "output_type": "display_data"
    }
   ],
   "source": [
    "# Countplot of gender\n",
    "\n",
    "plt.figure(figsize = (5, 5))\n",
    "ax = sns.countplot(x=lungs_df['Gender'], palette = 'PuBu')\n",
    "ax.set_xticklabels(ax.get_xticklabels(), rotation = 0, ha = \"right\")\n",
    "plt.suptitle(\"Count of Gender\")\n",
    "plt.show()\n"
   ]
  },
  {
   "cell_type": "markdown",
   "id": "e2ad5f85",
   "metadata": {},
   "source": [
    "## 2.Data preparation"
   ]
  },
  {
   "cell_type": "code",
   "execution_count": 152,
   "id": "4674bcbf",
   "metadata": {},
   "outputs": [
    {
     "data": {
      "text/plain": [
       "AFFX-BioB-3_at        3.614279\n",
       "AFFX-BioB-5_at        3.658087\n",
       "AFFX-BioB-M_at        3.627996\n",
       "AFFX-BioC-3_at        2.575990\n",
       "AFFX-BioC-5_at        2.390309\n",
       "                        ...   \n",
       "merck2-Z48633_s_at    0.206106\n",
       "merck2-Z70222_a_at   -0.387533\n",
       "merck2-Z70608_x_at    1.364450\n",
       "merck2-Z72499_a_at    0.862061\n",
       "merck2-Z75331_a_at    0.040207\n",
       "Length: 60607, dtype: float64"
      ]
     },
     "execution_count": 152,
     "metadata": {},
     "output_type": "execute_result"
    }
   ],
   "source": [
    "transpose_df.skew(axis=0)"
   ]
  },
  {
   "cell_type": "markdown",
   "id": "666becab",
   "metadata": {},
   "source": [
    "Data has some skewness. Skweness is expected as we have a small number of samples(89 samples).So removing skewed columns will lead to loss of information.Hence  Standardization(zscore) is implemented to reduce the skewness."
   ]
  },
  {
   "cell_type": "code",
   "execution_count": 153,
   "id": "6c6913c2",
   "metadata": {},
   "outputs": [],
   "source": [
    "centered=(transpose_df-transpose_df.mean(axis=0))/transpose_df.std(axis=0)\n"
   ]
  },
  {
   "cell_type": "markdown",
   "id": "ea390432",
   "metadata": {},
   "source": [
    "## 3.Model Building\n",
    "This section implements three algorithms. First dimensionality reduction followed by k means clustering. For dimensionality redution PCA and tSNE to reduce the dimesnionlaity. After reducing the dimensions, k-means clustering is done on principal and tSNE components.\n"
   ]
  },
  {
   "cell_type": "code",
   "execution_count": 154,
   "id": "b7d2bc25",
   "metadata": {},
   "outputs": [
    {
     "name": "stdout",
     "output_type": "stream",
     "text": [
      "[pca] >Processing dataframe..\n",
      "[pca] >The PCA reduction is performed to capture [90.0%] explained variance using the [60607] columns of the input data.\n",
      "[pca] >Fit using PCA.\n",
      "[pca] >Compute loadings and PCs.\n",
      "[pca] >Compute explained variance.\n",
      "[pca] >Number of components is [66] that covers the [90.00%] explained variance.\n",
      "[pca] >The PCA reduction is performed on the [60607] columns of the input dataframe.\n",
      "[pca] >Fit using PCA.\n",
      "[pca] >Compute loadings and PCs.\n",
      "[pca] >Outlier detection using Hotelling T2 test with alpha=[0.05] and n_components=[66]\n",
      "[pca] >Outlier detection using SPE/DmodX with n_std=[2]\n"
     ]
    }
   ],
   "source": [
    "from sklearn.decomposition import PCA\n",
    "\n",
    "X = centered\n",
    "#Building the compoents till you get 90 percent variance.\n",
    "\n",
    "model = pca(n_components=0.90)\n",
    "\n",
    "# Fit transform\n",
    "results = model.fit_transform(centered)\n",
    "\n"
   ]
  },
  {
   "cell_type": "code",
   "execution_count": 155,
   "id": "eb77de2e",
   "metadata": {},
   "outputs": [
    {
     "data": {
      "image/png": "[encoded data removed]",
      "text/plain": [
       "<Figure size 1080x720 with 1 Axes>"
      ]
     },
     "metadata": {
      "needs_background": "light"
     },
     "output_type": "display_data"
    },
    {
     "data": {
      "text/plain": [
       "<Figure size 432x288 with 0 Axes>"
      ]
     },
     "metadata": {},
     "output_type": "display_data"
    }
   ],
   "source": [
    "# Plotting the elbow plot to see the cumulative variance.\n",
    "fig, ax = model.plot()\n",
    "\n"
   ]
  },
  {
   "cell_type": "markdown",
   "id": "6dcbf876",
   "metadata": {},
   "source": [
    "To capture 90 percent variance needs 66 components . This shows that features done have big difference in their variances. This was expected as all features are from the same domain(gene expression) and less samples."
   ]
  },
  {
   "cell_type": "markdown",
   "id": "9b29174a",
   "metadata": {},
   "source": [
    "The next code cells plots PC1 and PC2, then PC2 and PC3 to see any separation. For labelling the data points I used Gender and Cancer type information"
   ]
  },
  {
   "cell_type": "code",
   "execution_count": 165,
   "id": "9351a10e",
   "metadata": {},
   "outputs": [
    {
     "data": {
      "application/vnd.plotly.v1+json": {
       "config": {
        "plotlyServerURL": "https://plot.ly"
       },
       "data": [
        {
         "hovertemplate": "color=Squamous<br>symbol=M<br>PC1=%{x}<br>PC2=%{y}<extra></extra>",
         "legendgroup": "Squamous, M",
         "marker": {
          "color": "#636efa",
          "symbol": "circle"
         },
         "mode": "markers",
         "name": "Squamous, M",
         "orientation": "v",
         "showlegend": true,
         "type": "scatter",
         "x": [
          6.722253067945152,
          235.92415480462873,
          316.1160710954357,
          106.08509292480394,
          32.72242069894219,
          -39.08144281660255,
          53.6302528525688,
          37.129546702738594,
          24.10178958590826,
          11.204882990061908,
          2.5863615850256156,
          -26.721642382096647,
          24.283831699272707,
          53.54723458081911,
          39.11585198908615,
          53.98228471741797,
          -55.32697001680411,
          -4.599646247359359,
          74.22392309572585,
          27.329745129806305,
          60.60336240568362,
          19.677588119448316,
          45.658203172554394,
          34.13565178840587,
          101.28211910512925,
          73.87297569835751,
          -27.502338052925086,
          24.420110725807852,
          14.629444171646416
         ],
         "xaxis": "x",
         "y": [
          -140.68297899508312,
          -28.969271033539403,
          257.1811508813166,
          -123.43519152446129,
          -48.04555295552674,
          48.94030325362337,
          -38.3707353896564,
          -43.69629627293182,
          -79.19994476462102,
          18.994788924162656,
          -7.06728466764403,
          11.950573390890114,
          -35.71115977503682,
          -96.75853504914522,
          -40.7032469152235,
          -131.87811200315954,
          7.90762438458385,
          -57.41689635568139,
          29.22808708411271,
          -62.463654068569795,
          -41.852835953594564,
          -73.73207460182658,
          -145.91635756857727,
          -95.548492986183,
          -141.23416197035095,
          -89.53982916557389,
          -74.13698711439503,
          -12.557616429131109,
          -175.49118161888714
         ],
         "yaxis": "y"
        },
        {
         "hovertemplate": "color=Squamous<br>symbol=F<br>PC1=%{x}<br>PC2=%{y}<extra></extra>",
         "legendgroup": "Squamous, F",
         "marker": {
          "color": "#636efa",
          "symbol": "diamond"
         },
         "mode": "markers",
         "name": "Squamous, F",
         "orientation": "v",
         "showlegend": true,
         "type": "scatter",
         "x": [
          61.66647862522701,
          -73.37795147980863,
          75.24443179589474,
          -11.238717989681662,
          -19.070097708933268,
          -26.053931002916208,
          -19.993459696101368
         ],
         "xaxis": "x",
         "y": [
          -1.344819190763962,
          77.1887789523276,
          -40.615600005545524,
          -87.66549618936,
          -95.38141060649008,
          17.013786777394994,
          74.81197455598999
         ],
         "yaxis": "y"
        },
        {
         "hovertemplate": "color=Adenocarcinoma<br>symbol=M<br>PC1=%{x}<br>PC2=%{y}<extra></extra>",
         "legendgroup": "Adenocarcinoma, M",
         "marker": {
          "color": "#EF553B",
          "symbol": "circle"
         },
         "mode": "markers",
         "name": "Adenocarcinoma, M",
         "orientation": "v",
         "showlegend": true,
         "type": "scatter",
         "x": [
          21.011294011725475,
          -126.03721149378708,
          -12.810711178086606,
          -40.85897006611566,
          -38.710138962562766,
          61.81605395068276,
          -32.381105017543135,
          -106.85972097195491,
          0.10774508618301137,
          -66.26209572736929,
          -17.50001075278979,
          -83.3118731441484,
          29.528550202726485,
          12.242512976336581,
          133.3240263795437,
          -84.90520351889307,
          -41.33213239620361,
          -130.17990042287087,
          18.22920212082211,
          -139.39305346964088,
          -13.031466761370032,
          -97.50167521536592,
          -61.807993184901534
         ],
         "xaxis": "x",
         "y": [
          133.71796219945742,
          -35.72527887055656,
          85.9202356200318,
          -36.812273225848216,
          35.21709208746191,
          78.12970157524035,
          49.13448853170989,
          75.36750965669484,
          24.748356901110924,
          92.56667231862706,
          -5.008673678948394,
          4.624141384221174,
          71.83444325375166,
          42.983058797122084,
          79.35576455801714,
          30.10425238004163,
          7.253277694473926,
          -56.86599958416913,
          -14.795928742038154,
          -9.038859524567645,
          22.24169546226971,
          -0.3181758908314112,
          11.707598869121373
         ],
         "yaxis": "y"
        },
        {
         "hovertemplate": "color=Adenocarcinoma<br>symbol=F<br>PC1=%{x}<br>PC2=%{y}<extra></extra>",
         "legendgroup": "Adenocarcinoma, F",
         "marker": {
          "color": "#EF553B",
          "symbol": "diamond"
         },
         "mode": "markers",
         "name": "Adenocarcinoma, F",
         "orientation": "v",
         "showlegend": true,
         "type": "scatter",
         "x": [
          -32.50909317371211,
          14.73984409976304,
          -68.7895653561556,
          -99.22338644163705,
          -67.79029835602037,
          -41.313359234232394,
          -56.21119379358262,
          -22.03942793940147,
          -74.49812895536137,
          -62.61823492056291,
          -84.26968020950201,
          43.527012515787455,
          61.38932303607916,
          -19.85703242782128,
          -46.11362359723086,
          -115.3996531340972,
          -131.08509352793328,
          -99.75984001491653,
          -29.413120366834644
         ],
         "xaxis": "x",
         "y": [
          34.05014285874267,
          58.62169232874229,
          88.08151095512426,
          -21.529173225718232,
          -11.29467318905905,
          -10.675300688079393,
          133.67790671461916,
          -12.02661930728566,
          5.555022042521986,
          33.60906345581785,
          44.406921294193324,
          137.4958616429907,
          46.88572106138812,
          35.96938457080445,
          89.77095513718137,
          -32.36731477088212,
          17.472437178601826,
          -4.41684691111218,
          55.28964269688875
         ],
         "yaxis": "y"
        },
        {
         "hovertemplate": "color=Others<br>symbol=M<br>PC1=%{x}<br>PC2=%{y}<extra></extra>",
         "legendgroup": "Others, M",
         "marker": {
          "color": "#00cc96",
          "symbol": "circle"
         },
         "mode": "markers",
         "name": "Others, M",
         "orientation": "v",
         "showlegend": true,
         "type": "scatter",
         "x": [
          68.17342278325654,
          -61.502165140326674,
          19.063084352113034,
          122.11639741576293,
          71.68304362942831,
          111.06929742483604,
          -11.250250620895969,
          -16.45313541948785
         ],
         "xaxis": "x",
         "y": [
          -35.22963480821672,
          -44.65769784247526,
          77.51489185680133,
          62.323158218934644,
          -34.50613790899276,
          -76.7227842736847,
          12.954789725691484,
          -44.483649558173326
         ],
         "yaxis": "y"
        },
        {
         "hovertemplate": "color=Others<br>symbol=F<br>PC1=%{x}<br>PC2=%{y}<extra></extra>",
         "legendgroup": "Others, F",
         "marker": {
          "color": "#00cc96",
          "symbol": "diamond"
         },
         "mode": "markers",
         "name": "Others, F",
         "orientation": "v",
         "showlegend": true,
         "type": "scatter",
         "x": [
          28.005301189696198,
          45.0745317546358,
          64.94903624882397
         ],
         "xaxis": "x",
         "y": [
          110.92613217531672,
          3.7925625616995635,
          59.3696292017828
         ],
         "yaxis": "y"
        }
       ],
       "layout": {
        "legend": {
         "title": {
          "text": "color, symbol"
         },
         "tracegroupgap": 0
        },
        "template": {
         "data": {
          "bar": [
           {
            "error_x": {
             "color": "#2a3f5f"
            },
            "error_y": {
             "color": "#2a3f5f"
            },
            "marker": {
             "line": {
              "color": "#E5ECF6",
              "width": 0.5
             },
             "pattern": {
              "fillmode": "overlay",
              "size": 10,
              "solidity": 0.2
             }
            },
            "type": "bar"
           }
          ],
          "barpolar": [
           {
            "marker": {
             "line": {
              "color": "#E5ECF6",
              "width": 0.5
             },
             "pattern": {
              "fillmode": "overlay",
              "size": 10,
              "solidity": 0.2
             }
            },
            "type": "barpolar"
           }
          ],
          "carpet": [
           {
            "aaxis": {
             "endlinecolor": "#2a3f5f",
             "gridcolor": "white",
             "linecolor": "white",
             "minorgridcolor": "white",
             "startlinecolor": "#2a3f5f"
            },
            "baxis": {
             "endlinecolor": "#2a3f5f",
             "gridcolor": "white",
             "linecolor": "white",
             "minorgridcolor": "white",
             "startlinecolor": "#2a3f5f"
            },
            "type": "carpet"
           }
          ],
          "choropleth": [
           {
            "colorbar": {
             "outlinewidth": 0,
             "ticks": ""
            },
            "type": "choropleth"
           }
          ],
          "contour": [
           {
            "colorbar": {
             "outlinewidth": 0,
             "ticks": ""
            },
            "colorscale": [
             [
              0,
              "#0d0887"
             ],
             [
              0.1111111111111111,
              "#46039f"
             ],
             [
              0.2222222222222222,
              "#7201a8"
             ],
             [
              0.3333333333333333,
              "#9c179e"
             ],
             [
              0.4444444444444444,
              "#bd3786"
             ],
             [
              0.5555555555555556,
              "#d8576b"
             ],
             [
              0.6666666666666666,
              "#ed7953"
             ],
             [
              0.7777777777777778,
              "#fb9f3a"
             ],
             [
              0.8888888888888888,
              "#fdca26"
             ],
             [
              1,
              "#f0f921"
             ]
            ],
            "type": "contour"
           }
          ],
          "contourcarpet": [
           {
            "colorbar": {
             "outlinewidth": 0,
             "ticks": ""
            },
            "type": "contourcarpet"
           }
          ],
          "heatmap": [
           {
            "colorbar": {
             "outlinewidth": 0,
             "ticks": ""
            },
            "colorscale": [
             [
              0,
              "#0d0887"
             ],
             [
              0.1111111111111111,
              "#46039f"
             ],
             [
              0.2222222222222222,
              "#7201a8"
             ],
             [
              0.3333333333333333,
              "#9c179e"
             ],
             [
              0.4444444444444444,
              "#bd3786"
             ],
             [
              0.5555555555555556,
              "#d8576b"
             ],
             [
              0.6666666666666666,
              "#ed7953"
             ],
             [
              0.7777777777777778,
              "#fb9f3a"
             ],
             [
              0.8888888888888888,
              "#fdca26"
             ],
             [
              1,
              "#f0f921"
             ]
            ],
            "type": "heatmap"
           }
          ],
          "heatmapgl": [
           {
            "colorbar": {
             "outlinewidth": 0,
             "ticks": ""
            },
            "colorscale": [
             [
              0,
              "#0d0887"
             ],
             [
              0.1111111111111111,
              "#46039f"
             ],
             [
              0.2222222222222222,
              "#7201a8"
             ],
             [
              0.3333333333333333,
              "#9c179e"
             ],
             [
              0.4444444444444444,
              "#bd3786"
             ],
             [
              0.5555555555555556,
              "#d8576b"
             ],
             [
              0.6666666666666666,
              "#ed7953"
             ],
             [
              0.7777777777777778,
              "#fb9f3a"
             ],
             [
              0.8888888888888888,
              "#fdca26"
             ],
             [
              1,
              "#f0f921"
             ]
            ],
            "type": "heatmapgl"
           }
          ],
          "histogram": [
           {
            "marker": {
             "pattern": {
              "fillmode": "overlay",
              "size": 10,
              "solidity": 0.2
             }
            },
            "type": "histogram"
           }
          ],
          "histogram2d": [
           {
            "colorbar": {
             "outlinewidth": 0,
             "ticks": ""
            },
            "colorscale": [
             [
              0,
              "#0d0887"
             ],
             [
              0.1111111111111111,
              "#46039f"
             ],
             [
              0.2222222222222222,
              "#7201a8"
             ],
             [
              0.3333333333333333,
              "#9c179e"
             ],
             [
              0.4444444444444444,
              "#bd3786"
             ],
             [
              0.5555555555555556,
              "#d8576b"
             ],
             [
              0.6666666666666666,
              "#ed7953"
             ],
             [
              0.7777777777777778,
              "#fb9f3a"
             ],
             [
              0.8888888888888888,
              "#fdca26"
             ],
             [
              1,
              "#f0f921"
             ]
            ],
            "type": "histogram2d"
           }
          ],
          "histogram2dcontour": [
           {
            "colorbar": {
             "outlinewidth": 0,
             "ticks": ""
            },
            "colorscale": [
             [
              0,
              "#0d0887"
             ],
             [
              0.1111111111111111,
              "#46039f"
             ],
             [
              0.2222222222222222,
              "#7201a8"
             ],
             [
              0.3333333333333333,
              "#9c179e"
             ],
             [
              0.4444444444444444,
              "#bd3786"
             ],
             [
              0.5555555555555556,
              "#d8576b"
             ],
             [
              0.6666666666666666,
              "#ed7953"
             ],
             [
              0.7777777777777778,
              "#fb9f3a"
             ],
             [
              0.8888888888888888,
              "#fdca26"
             ],
             [
              1,
              "#f0f921"
             ]
            ],
            "type": "histogram2dcontour"
           }
          ],
          "mesh3d": [
           {
            "colorbar": {
             "outlinewidth": 0,
             "ticks": ""
            },
            "type": "mesh3d"
           }
          ],
          "parcoords": [
           {
            "line": {
             "colorbar": {
              "outlinewidth": 0,
              "ticks": ""
             }
            },
            "type": "parcoords"
           }
          ],
          "pie": [
           {
            "automargin": true,
            "type": "pie"
           }
          ],
          "scatter": [
           {
            "marker": {
             "colorbar": {
              "outlinewidth": 0,
              "ticks": ""
             }
            },
            "type": "scatter"
           }
          ],
          "scatter3d": [
           {
            "line": {
             "colorbar": {
              "outlinewidth": 0,
              "ticks": ""
             }
            },
            "marker": {
             "colorbar": {
              "outlinewidth": 0,
              "ticks": ""
             }
            },
            "type": "scatter3d"
           }
          ],
          "scattercarpet": [
           {
            "marker": {
             "colorbar": {
              "outlinewidth": 0,
              "ticks": ""
             }
            },
            "type": "scattercarpet"
           }
          ],
          "scattergeo": [
           {
            "marker": {
             "colorbar": {
              "outlinewidth": 0,
              "ticks": ""
             }
            },
            "type": "scattergeo"
           }
          ],
          "scattergl": [
           {
            "marker": {
             "colorbar": {
              "outlinewidth": 0,
              "ticks": ""
             }
            },
            "type": "scattergl"
           }
          ],
          "scattermapbox": [
           {
            "marker": {
             "colorbar": {
              "outlinewidth": 0,
              "ticks": ""
             }
            },
            "type": "scattermapbox"
           }
          ],
          "scatterpolar": [
           {
            "marker": {
             "colorbar": {
              "outlinewidth": 0,
              "ticks": ""
             }
            },
            "type": "scatterpolar"
           }
          ],
          "scatterpolargl": [
           {
            "marker": {
             "colorbar": {
              "outlinewidth": 0,
              "ticks": ""
             }
            },
            "type": "scatterpolargl"
           }
          ],
          "scatterternary": [
           {
            "marker": {
             "colorbar": {
              "outlinewidth": 0,
              "ticks": ""
             }
            },
            "type": "scatterternary"
           }
          ],
          "surface": [
           {
            "colorbar": {
             "outlinewidth": 0,
             "ticks": ""
            },
            "colorscale": [
             [
              0,
              "#0d0887"
             ],
             [
              0.1111111111111111,
              "#46039f"
             ],
             [
              0.2222222222222222,
              "#7201a8"
             ],
             [
              0.3333333333333333,
              "#9c179e"
             ],
             [
              0.4444444444444444,
              "#bd3786"
             ],
             [
              0.5555555555555556,
              "#d8576b"
             ],
             [
              0.6666666666666666,
              "#ed7953"
             ],
             [
              0.7777777777777778,
              "#fb9f3a"
             ],
             [
              0.8888888888888888,
              "#fdca26"
             ],
             [
              1,
              "#f0f921"
             ]
            ],
            "type": "surface"
           }
          ],
          "table": [
           {
            "cells": {
             "fill": {
              "color": "#EBF0F8"
             },
             "line": {
              "color": "white"
             }
            },
            "header": {
             "fill": {
              "color": "#C8D4E3"
             },
             "line": {
              "color": "white"
             }
            },
            "type": "table"
           }
          ]
         },
         "layout": {
          "annotationdefaults": {
           "arrowcolor": "#2a3f5f",
           "arrowhead": 0,
           "arrowwidth": 1
          },
          "autotypenumbers": "strict",
          "coloraxis": {
           "colorbar": {
            "outlinewidth": 0,
            "ticks": ""
           }
          },
          "colorscale": {
           "diverging": [
            [
             0,
             "#8e0152"
            ],
            [
             0.1,
             "#c51b7d"
            ],
            [
             0.2,
             "#de77ae"
            ],
            [
             0.3,
             "#f1b6da"
            ],
            [
             0.4,
             "#fde0ef"
            ],
            [
             0.5,
             "#f7f7f7"
            ],
            [
             0.6,
             "#e6f5d0"
            ],
            [
             0.7,
             "#b8e186"
            ],
            [
             0.8,
             "#7fbc41"
            ],
            [
             0.9,
             "#4d9221"
            ],
            [
             1,
             "#276419"
            ]
           ],
           "sequential": [
            [
             0,
             "#0d0887"
            ],
            [
             0.1111111111111111,
             "#46039f"
            ],
            [
             0.2222222222222222,
             "#7201a8"
            ],
            [
             0.3333333333333333,
             "#9c179e"
            ],
            [
             0.4444444444444444,
             "#bd3786"
            ],
            [
             0.5555555555555556,
             "#d8576b"
            ],
            [
             0.6666666666666666,
             "#ed7953"
            ],
            [
             0.7777777777777778,
             "#fb9f3a"
            ],
            [
             0.8888888888888888,
             "#fdca26"
            ],
            [
             1,
             "#f0f921"
            ]
           ],
           "sequentialminus": [
            [
             0,
             "#0d0887"
            ],
            [
             0.1111111111111111,
             "#46039f"
            ],
            [
             0.2222222222222222,
             "#7201a8"
            ],
            [
             0.3333333333333333,
             "#9c179e"
            ],
            [
             0.4444444444444444,
             "#bd3786"
            ],
            [
             0.5555555555555556,
             "#d8576b"
            ],
            [
             0.6666666666666666,
             "#ed7953"
            ],
            [
             0.7777777777777778,
             "#fb9f3a"
            ],
            [
             0.8888888888888888,
             "#fdca26"
            ],
            [
             1,
             "#f0f921"
            ]
           ]
          },
          "colorway": [
           "#636efa",
           "#EF553B",
           "#00cc96",
           "#ab63fa",
           "#FFA15A",
           "#19d3f3",
           "#FF6692",
           "#B6E880",
           "#FF97FF",
           "#FECB52"
          ],
          "font": {
           "color": "#2a3f5f"
          },
          "geo": {
           "bgcolor": "white",
           "lakecolor": "white",
           "landcolor": "#E5ECF6",
           "showlakes": true,
           "showland": true,
           "subunitcolor": "white"
          },
          "hoverlabel": {
           "align": "left"
          },
          "hovermode": "closest",
          "mapbox": {
           "style": "light"
          },
          "paper_bgcolor": "white",
          "plot_bgcolor": "#E5ECF6",
          "polar": {
           "angularaxis": {
            "gridcolor": "white",
            "linecolor": "white",
            "ticks": ""
           },
           "bgcolor": "#E5ECF6",
           "radialaxis": {
            "gridcolor": "white",
            "linecolor": "white",
            "ticks": ""
           }
          },
          "scene": {
           "xaxis": {
            "backgroundcolor": "#E5ECF6",
            "gridcolor": "white",
            "gridwidth": 2,
            "linecolor": "white",
            "showbackground": true,
            "ticks": "",
            "zerolinecolor": "white"
           },
           "yaxis": {
            "backgroundcolor": "#E5ECF6",
            "gridcolor": "white",
            "gridwidth": 2,
            "linecolor": "white",
            "showbackground": true,
            "ticks": "",
            "zerolinecolor": "white"
           },
           "zaxis": {
            "backgroundcolor": "#E5ECF6",
            "gridcolor": "white",
            "gridwidth": 2,
            "linecolor": "white",
            "showbackground": true,
            "ticks": "",
            "zerolinecolor": "white"
           }
          },
          "shapedefaults": {
           "line": {
            "color": "#2a3f5f"
           }
          },
          "ternary": {
           "aaxis": {
            "gridcolor": "white",
            "linecolor": "white",
            "ticks": ""
           },
           "baxis": {
            "gridcolor": "white",
            "linecolor": "white",
            "ticks": ""
           },
           "bgcolor": "#E5ECF6",
           "caxis": {
            "gridcolor": "white",
            "linecolor": "white",
            "ticks": ""
           }
          },
          "title": {
           "x": 0.05
          },
          "xaxis": {
           "automargin": true,
           "gridcolor": "white",
           "linecolor": "white",
           "ticks": "",
           "title": {
            "standoff": 15
           },
           "zerolinecolor": "white",
           "zerolinewidth": 2
          },
          "yaxis": {
           "automargin": true,
           "gridcolor": "white",
           "linecolor": "white",
           "ticks": "",
           "title": {
            "standoff": 15
           },
           "zerolinecolor": "white",
           "zerolinewidth": 2
          }
         }
        },
        "title": {
         "text": "Scatter plot PC1 and PC2"
        },
        "xaxis": {
         "anchor": "y",
         "domain": [
          0,
          1
         ],
         "title": {
          "text": "PC1"
         }
        },
        "yaxis": {
         "anchor": "x",
         "domain": [
          0,
          1
         ],
         "title": {
          "text": "PC2"
         }
        }
       }
      },
      "text/html": [
       "<div>                            <div id=\"870cf1b8-c416-46ac-a31f-ab5dc8c74126\" class=\"plotly-graph-div\" style=\"height:525px; width:100%;\"></div>            <script type=\"text/javascript\">                require([\"plotly\"], function(Plotly) {                    window.PLOTLYENV=window.PLOTLYENV || {};                                    if (document.getElementById(\"870cf1b8-c416-46ac-a31f-ab5dc8c74126\")) {                    Plotly.newPlot(                        \"870cf1b8-c416-46ac-a31f-ab5dc8c74126\",                        [{\"hovertemplate\":\"color=Squamous<br>symbol=M<br>PC1=%{x}<br>PC2=%{y}<extra></extra>\",\"legendgroup\":\"Squamous, M\",\"marker\":{\"color\":\"#636efa\",\"symbol\":\"circle\"},\"mode\":\"markers\",\"name\":\"Squamous, M\",\"orientation\":\"v\",\"showlegend\":true,\"x\":[6.722253067945152,235.92415480462873,316.1160710954357,106.08509292480394,32.72242069894219,-39.08144281660255,53.6302528525688,37.129546702738594,24.10178958590826,11.204882990061908,2.5863615850256156,-26.721642382096647,24.283831699272707,53.54723458081911,39.11585198908615,53.98228471741797,-55.32697001680411,-4.599646247359359,74.22392309572585,27.329745129806305,60.60336240568362,19.677588119448316,45.658203172554394,34.13565178840587,101.28211910512925,73.87297569835751,-27.502338052925086,24.420110725807852,14.629444171646416],\"xaxis\":\"x\",\"y\":[-140.68297899508312,-28.969271033539403,257.1811508813166,-123.43519152446129,-48.04555295552674,48.94030325362337,-38.3707353896564,-43.69629627293182,-79.19994476462102,18.994788924162656,-7.06728466764403,11.950573390890114,-35.71115977503682,-96.75853504914522,-40.7032469152235,-131.87811200315954,7.90762438458385,-57.41689635568139,29.22808708411271,-62.463654068569795,-41.852835953594564,-73.73207460182658,-145.91635756857727,-95.548492986183,-141.23416197035095,-89.53982916557389,-74.13698711439503,-12.557616429131109,-175.49118161888714],\"yaxis\":\"y\",\"type\":\"scatter\"},{\"hovertemplate\":\"color=Squamous<br>symbol=F<br>PC1=%{x}<br>PC2=%{y}<extra></extra>\",\"legendgroup\":\"Squamous, F\",\"marker\":{\"color\":\"#636efa\",\"symbol\":\"diamond\"},\"mode\":\"markers\",\"name\":\"Squamous, F\",\"orientation\":\"v\",\"showlegend\":true,\"x\":[61.66647862522701,-73.37795147980863,75.24443179589474,-11.238717989681662,-19.070097708933268,-26.053931002916208,-19.993459696101368],\"xaxis\":\"x\",\"y\":[-1.344819190763962,77.1887789523276,-40.615600005545524,-87.66549618936,-95.38141060649008,17.013786777394994,74.81197455598999],\"yaxis\":\"y\",\"type\":\"scatter\"},{\"hovertemplate\":\"color=Adenocarcinoma<br>symbol=M<br>PC1=%{x}<br>PC2=%{y}<extra></extra>\",\"legendgroup\":\"Adenocarcinoma, M\",\"marker\":{\"color\":\"#EF553B\",\"symbol\":\"circle\"},\"mode\":\"markers\",\"name\":\"Adenocarcinoma, M\",\"orientation\":\"v\",\"showlegend\":true,\"x\":[21.011294011725475,-126.03721149378708,-12.810711178086606,-40.85897006611566,-38.710138962562766,61.81605395068276,-32.381105017543135,-106.85972097195491,0.10774508618301137,-66.26209572736929,-17.50001075278979,-83.3118731441484,29.528550202726485,12.242512976336581,133.3240263795437,-84.90520351889307,-41.33213239620361,-130.17990042287087,18.22920212082211,-139.39305346964088,-13.031466761370032,-97.50167521536592,-61.807993184901534],\"xaxis\":\"x\",\"y\":[133.71796219945742,-35.72527887055656,85.9202356200318,-36.812273225848216,35.21709208746191,78.12970157524035,49.13448853170989,75.36750965669484,24.748356901110924,92.56667231862706,-5.008673678948394,4.624141384221174,71.83444325375166,42.983058797122084,79.35576455801714,30.10425238004163,7.253277694473926,-56.86599958416913,-14.795928742038154,-9.038859524567645,22.24169546226971,-0.3181758908314112,11.707598869121373],\"yaxis\":\"y\",\"type\":\"scatter\"},{\"hovertemplate\":\"color=Adenocarcinoma<br>symbol=F<br>PC1=%{x}<br>PC2=%{y}<extra></extra>\",\"legendgroup\":\"Adenocarcinoma, F\",\"marker\":{\"color\":\"#EF553B\",\"symbol\":\"diamond\"},\"mode\":\"markers\",\"name\":\"Adenocarcinoma, F\",\"orientation\":\"v\",\"showlegend\":true,\"x\":[-32.50909317371211,14.73984409976304,-68.7895653561556,-99.22338644163705,-67.79029835602037,-41.313359234232394,-56.21119379358262,-22.03942793940147,-74.49812895536137,-62.61823492056291,-84.26968020950201,43.527012515787455,61.38932303607916,-19.85703242782128,-46.11362359723086,-115.3996531340972,-131.08509352793328,-99.75984001491653,-29.413120366834644],\"xaxis\":\"x\",\"y\":[34.05014285874267,58.62169232874229,88.08151095512426,-21.529173225718232,-11.29467318905905,-10.675300688079393,133.67790671461916,-12.02661930728566,5.555022042521986,33.60906345581785,44.406921294193324,137.4958616429907,46.88572106138812,35.96938457080445,89.77095513718137,-32.36731477088212,17.472437178601826,-4.41684691111218,55.28964269688875],\"yaxis\":\"y\",\"type\":\"scatter\"},{\"hovertemplate\":\"color=Others<br>symbol=M<br>PC1=%{x}<br>PC2=%{y}<extra></extra>\",\"legendgroup\":\"Others, M\",\"marker\":{\"color\":\"#00cc96\",\"symbol\":\"circle\"},\"mode\":\"markers\",\"name\":\"Others, M\",\"orientation\":\"v\",\"showlegend\":true,\"x\":[68.17342278325654,-61.502165140326674,19.063084352113034,122.11639741576293,71.68304362942831,111.06929742483604,-11.250250620895969,-16.45313541948785],\"xaxis\":\"x\",\"y\":[-35.22963480821672,-44.65769784247526,77.51489185680133,62.323158218934644,-34.50613790899276,-76.7227842736847,12.954789725691484,-44.483649558173326],\"yaxis\":\"y\",\"type\":\"scatter\"},{\"hovertemplate\":\"color=Others<br>symbol=F<br>PC1=%{x}<br>PC2=%{y}<extra></extra>\",\"legendgroup\":\"Others, F\",\"marker\":{\"color\":\"#00cc96\",\"symbol\":\"diamond\"},\"mode\":\"markers\",\"name\":\"Others, F\",\"orientation\":\"v\",\"showlegend\":true,\"x\":[28.005301189696198,45.0745317546358,64.94903624882397],\"xaxis\":\"x\",\"y\":[110.92613217531672,3.7925625616995635,59.3696292017828],\"yaxis\":\"y\",\"type\":\"scatter\"}],                        {\"template\":{\"data\":{\"bar\":[{\"error_x\":{\"color\":\"#2a3f5f\"},\"error_y\":{\"color\":\"#2a3f5f\"},\"marker\":{\"line\":{\"color\":\"#E5ECF6\",\"width\":0.5},\"pattern\":{\"fillmode\":\"overlay\",\"size\":10,\"solidity\":0.2}},\"type\":\"bar\"}],\"barpolar\":[{\"marker\":{\"line\":{\"color\":\"#E5ECF6\",\"width\":0.5},\"pattern\":{\"fillmode\":\"overlay\",\"size\":10,\"solidity\":0.2}},\"type\":\"barpolar\"}],\"carpet\":[{\"aaxis\":{\"endlinecolor\":\"#2a3f5f\",\"gridcolor\":\"white\",\"linecolor\":\"white\",\"minorgridcolor\":\"white\",\"startlinecolor\":\"#2a3f5f\"},\"baxis\":{\"endlinecolor\":\"#2a3f5f\",\"gridcolor\":\"white\",\"linecolor\":\"white\",\"minorgridcolor\":\"white\",\"startlinecolor\":\"#2a3f5f\"},\"type\":\"carpet\"}],\"choropleth\":[{\"colorbar\":{\"outlinewidth\":0,\"ticks\":\"\"},\"type\":\"choropleth\"}],\"contour\":[{\"colorbar\":{\"outlinewidth\":0,\"ticks\":\"\"},\"colorscale\":[[0.0,\"#0d0887\"],[0.1111111111111111,\"#46039f\"],[0.2222222222222222,\"#7201a8\"],[0.3333333333333333,\"#9c179e\"],[0.4444444444444444,\"#bd3786\"],[0.5555555555555556,\"#d8576b\"],[0.6666666666666666,\"#ed7953\"],[0.7777777777777778,\"#fb9f3a\"],[0.8888888888888888,\"#fdca26\"],[1.0,\"#f0f921\"]],\"type\":\"contour\"}],\"contourcarpet\":[{\"colorbar\":{\"outlinewidth\":0,\"ticks\":\"\"},\"type\":\"contourcarpet\"}],\"heatmap\":[{\"colorbar\":{\"outlinewidth\":0,\"ticks\":\"\"},\"colorscale\":[[0.0,\"#0d0887\"],[0.1111111111111111,\"#46039f\"],[0.2222222222222222,\"#7201a8\"],[0.3333333333333333,\"#9c179e\"],[0.4444444444444444,\"#bd3786\"],[0.5555555555555556,\"#d8576b\"],[0.6666666666666666,\"#ed7953\"],[0.7777777777777778,\"#fb9f3a\"],[0.8888888888888888,\"#fdca26\"],[1.0,\"#f0f921\"]],\"type\":\"heatmap\"}],\"heatmapgl\":[{\"colorbar\":{\"outlinewidth\":0,\"ticks\":\"\"},\"colorscale\":[[0.0,\"#0d0887\"],[0.1111111111111111,\"#46039f\"],[0.2222222222222222,\"#7201a8\"],[0.3333333333333333,\"#9c179e\"],[0.4444444444444444,\"#bd3786\"],[0.5555555555555556,\"#d8576b\"],[0.6666666666666666,\"#ed7953\"],[0.7777777777777778,\"#fb9f3a\"],[0.8888888888888888,\"#fdca26\"],[1.0,\"#f0f921\"]],\"type\":\"heatmapgl\"}],\"histogram\":[{\"marker\":{\"pattern\":{\"fillmode\":\"overlay\",\"size\":10,\"solidity\":0.2}},\"type\":\"histogram\"}],\"histogram2d\":[{\"colorbar\":{\"outlinewidth\":0,\"ticks\":\"\"},\"colorscale\":[[0.0,\"#0d0887\"],[0.1111111111111111,\"#46039f\"],[0.2222222222222222,\"#7201a8\"],[0.3333333333333333,\"#9c179e\"],[0.4444444444444444,\"#bd3786\"],[0.5555555555555556,\"#d8576b\"],[0.6666666666666666,\"#ed7953\"],[0.7777777777777778,\"#fb9f3a\"],[0.8888888888888888,\"#fdca26\"],[1.0,\"#f0f921\"]],\"type\":\"histogram2d\"}],\"histogram2dcontour\":[{\"colorbar\":{\"outlinewidth\":0,\"ticks\":\"\"},\"colorscale\":[[0.0,\"#0d0887\"],[0.1111111111111111,\"#46039f\"],[0.2222222222222222,\"#7201a8\"],[0.3333333333333333,\"#9c179e\"],[0.4444444444444444,\"#bd3786\"],[0.5555555555555556,\"#d8576b\"],[0.6666666666666666,\"#ed7953\"],[0.7777777777777778,\"#fb9f3a\"],[0.8888888888888888,\"#fdca26\"],[1.0,\"#f0f921\"]],\"type\":\"histogram2dcontour\"}],\"mesh3d\":[{\"colorbar\":{\"outlinewidth\":0,\"ticks\":\"\"},\"type\":\"mesh3d\"}],\"parcoords\":[{\"line\":{\"colorbar\":{\"outlinewidth\":0,\"ticks\":\"\"}},\"type\":\"parcoords\"}],\"pie\":[{\"automargin\":true,\"type\":\"pie\"}],\"scatter\":[{\"marker\":{\"colorbar\":{\"outlinewidth\":0,\"ticks\":\"\"}},\"type\":\"scatter\"}],\"scatter3d\":[{\"line\":{\"colorbar\":{\"outlinewidth\":0,\"ticks\":\"\"}},\"marker\":{\"colorbar\":{\"outlinewidth\":0,\"ticks\":\"\"}},\"type\":\"scatter3d\"}],\"scattercarpet\":[{\"marker\":{\"colorbar\":{\"outlinewidth\":0,\"ticks\":\"\"}},\"type\":\"scattercarpet\"}],\"scattergeo\":[{\"marker\":{\"colorbar\":{\"outlinewidth\":0,\"ticks\":\"\"}},\"type\":\"scattergeo\"}],\"scattergl\":[{\"marker\":{\"colorbar\":{\"outlinewidth\":0,\"ticks\":\"\"}},\"type\":\"scattergl\"}],\"scattermapbox\":[{\"marker\":{\"colorbar\":{\"outlinewidth\":0,\"ticks\":\"\"}},\"type\":\"scattermapbox\"}],\"scatterpolar\":[{\"marker\":{\"colorbar\":{\"outlinewidth\":0,\"ticks\":\"\"}},\"type\":\"scatterpolar\"}],\"scatterpolargl\":[{\"marker\":{\"colorbar\":{\"outlinewidth\":0,\"ticks\":\"\"}},\"type\":\"scatterpolargl\"}],\"scatterternary\":[{\"marker\":{\"colorbar\":{\"outlinewidth\":0,\"ticks\":\"\"}},\"type\":\"scatterternary\"}],\"surface\":[{\"colorbar\":{\"outlinewidth\":0,\"ticks\":\"\"},\"colorscale\":[[0.0,\"#0d0887\"],[0.1111111111111111,\"#46039f\"],[0.2222222222222222,\"#7201a8\"],[0.3333333333333333,\"#9c179e\"],[0.4444444444444444,\"#bd3786\"],[0.5555555555555556,\"#d8576b\"],[0.6666666666666666,\"#ed7953\"],[0.7777777777777778,\"#fb9f3a\"],[0.8888888888888888,\"#fdca26\"],[1.0,\"#f0f921\"]],\"type\":\"surface\"}],\"table\":[{\"cells\":{\"fill\":{\"color\":\"#EBF0F8\"},\"line\":{\"color\":\"white\"}},\"header\":{\"fill\":{\"color\":\"#C8D4E3\"},\"line\":{\"color\":\"white\"}},\"type\":\"table\"}]},\"layout\":{\"annotationdefaults\":{\"arrowcolor\":\"#2a3f5f\",\"arrowhead\":0,\"arrowwidth\":1},\"autotypenumbers\":\"strict\",\"coloraxis\":{\"colorbar\":{\"outlinewidth\":0,\"ticks\":\"\"}},\"colorscale\":{\"diverging\":[[0,\"#8e0152\"],[0.1,\"#c51b7d\"],[0.2,\"#de77ae\"],[0.3,\"#f1b6da\"],[0.4,\"#fde0ef\"],[0.5,\"#f7f7f7\"],[0.6,\"#e6f5d0\"],[0.7,\"#b8e186\"],[0.8,\"#7fbc41\"],[0.9,\"#4d9221\"],[1,\"#276419\"]],\"sequential\":[[0.0,\"#0d0887\"],[0.1111111111111111,\"#46039f\"],[0.2222222222222222,\"#7201a8\"],[0.3333333333333333,\"#9c179e\"],[0.4444444444444444,\"#bd3786\"],[0.5555555555555556,\"#d8576b\"],[0.6666666666666666,\"#ed7953\"],[0.7777777777777778,\"#fb9f3a\"],[0.8888888888888888,\"#fdca26\"],[1.0,\"#f0f921\"]],\"sequentialminus\":[[0.0,\"#0d0887\"],[0.1111111111111111,\"#46039f\"],[0.2222222222222222,\"#7201a8\"],[0.3333333333333333,\"#9c179e\"],[0.4444444444444444,\"#bd3786\"],[0.5555555555555556,\"#d8576b\"],[0.6666666666666666,\"#ed7953\"],[0.7777777777777778,\"#fb9f3a\"],[0.8888888888888888,\"#fdca26\"],[1.0,\"#f0f921\"]]},\"colorway\":[\"#636efa\",\"#EF553B\",\"#00cc96\",\"#ab63fa\",\"#FFA15A\",\"#19d3f3\",\"#FF6692\",\"#B6E880\",\"#FF97FF\",\"#FECB52\"],\"font\":{\"color\":\"#2a3f5f\"},\"geo\":{\"bgcolor\":\"white\",\"lakecolor\":\"white\",\"landcolor\":\"#E5ECF6\",\"showlakes\":true,\"showland\":true,\"subunitcolor\":\"white\"},\"hoverlabel\":{\"align\":\"left\"},\"hovermode\":\"closest\",\"mapbox\":{\"style\":\"light\"},\"paper_bgcolor\":\"white\",\"plot_bgcolor\":\"#E5ECF6\",\"polar\":{\"angularaxis\":{\"gridcolor\":\"white\",\"linecolor\":\"white\",\"ticks\":\"\"},\"bgcolor\":\"#E5ECF6\",\"radialaxis\":{\"gridcolor\":\"white\",\"linecolor\":\"white\",\"ticks\":\"\"}},\"scene\":{\"xaxis\":{\"backgroundcolor\":\"#E5ECF6\",\"gridcolor\":\"white\",\"gridwidth\":2,\"linecolor\":\"white\",\"showbackground\":true,\"ticks\":\"\",\"zerolinecolor\":\"white\"},\"yaxis\":{\"backgroundcolor\":\"#E5ECF6\",\"gridcolor\":\"white\",\"gridwidth\":2,\"linecolor\":\"white\",\"showbackground\":true,\"ticks\":\"\",\"zerolinecolor\":\"white\"},\"zaxis\":{\"backgroundcolor\":\"#E5ECF6\",\"gridcolor\":\"white\",\"gridwidth\":2,\"linecolor\":\"white\",\"showbackground\":true,\"ticks\":\"\",\"zerolinecolor\":\"white\"}},\"shapedefaults\":{\"line\":{\"color\":\"#2a3f5f\"}},\"ternary\":{\"aaxis\":{\"gridcolor\":\"white\",\"linecolor\":\"white\",\"ticks\":\"\"},\"baxis\":{\"gridcolor\":\"white\",\"linecolor\":\"white\",\"ticks\":\"\"},\"bgcolor\":\"#E5ECF6\",\"caxis\":{\"gridcolor\":\"white\",\"linecolor\":\"white\",\"ticks\":\"\"}},\"title\":{\"x\":0.05},\"xaxis\":{\"automargin\":true,\"gridcolor\":\"white\",\"linecolor\":\"white\",\"ticks\":\"\",\"title\":{\"standoff\":15},\"zerolinecolor\":\"white\",\"zerolinewidth\":2},\"yaxis\":{\"automargin\":true,\"gridcolor\":\"white\",\"linecolor\":\"white\",\"ticks\":\"\",\"title\":{\"standoff\":15},\"zerolinecolor\":\"white\",\"zerolinewidth\":2}}},\"xaxis\":{\"anchor\":\"y\",\"domain\":[0.0,1.0],\"title\":{\"text\":\"PC1\"}},\"yaxis\":{\"anchor\":\"x\",\"domain\":[0.0,1.0],\"title\":{\"text\":\"PC2\"}},\"legend\":{\"title\":{\"text\":\"color, symbol\"},\"tracegroupgap\":0},\"title\":{\"text\":\"Scatter plot PC1 and PC2\"}},                        {\"responsive\": true}                    ).then(function(){\n",
       "                            \n",
       "var gd = document.getElementById('870cf1b8-c416-46ac-a31f-ab5dc8c74126');\n",
       "var x = new MutationObserver(function (mutations, observer) {{\n",
       "        var display = window.getComputedStyle(gd).display;\n",
       "        if (!display || display === 'none') {{\n",
       "            console.log([gd, 'removed!']);\n",
       "            Plotly.purge(gd);\n",
       "            observer.disconnect();\n",
       "        }}\n",
       "}});\n",
       "\n",
       "// Listen for the removal of the full notebook cells\n",
       "var notebookContainer = gd.closest('#notebook-container');\n",
       "if (notebookContainer) {{\n",
       "    x.observe(notebookContainer, {childList: true});\n",
       "}}\n",
       "\n",
       "// Listen for the clearing of the current output cell\n",
       "var outputEl = gd.closest('.output');\n",
       "if (outputEl) {{\n",
       "    x.observe(outputEl, {childList: true});\n",
       "}}\n",
       "\n",
       "                        })                };                });            </script>        </div>"
      ]
     },
     "metadata": {},
     "output_type": "display_data"
    }
   ],
   "source": [
    "projections=results['PC'].reset_index(drop=True)\n",
    "#source.location\n",
    "fig1 = px.scatter(projections,x=projections['PC1'], y=projections['PC2'], color=lungs_df['cancer_type'],symbol=lungs_df['Gender'],title='Scatter plot PC1 and PC2')#characteristics.tag.tumor.size.maximumdiameter\n",
    "fig1.show()"
   ]
  },
  {
   "attachments": {
    "newplot%20%282%29.png": {
     "image/png": "[encoded data removed]"
    }
   },
   "cell_type": "markdown",
   "id": "c1fe0052",
   "metadata": {},
   "source": [
    "![newplot%20%282%29.png](attachment:newplot%20%282%29.png)"
   ]
  },
  {
   "cell_type": "code",
   "execution_count": 157,
   "id": "31a819f9",
   "metadata": {},
   "outputs": [
    {
     "data": {
      "application/vnd.plotly.v1+json": {
       "config": {
        "plotlyServerURL": "https://plot.ly"
       },
       "data": [
        {
         "hovertemplate": "color=Squamous<br>symbol=M<br>PC2=%{x}<br>PC3=%{y}<extra></extra>",
         "legendgroup": "Squamous, M",
         "marker": {
          "color": "#636efa",
          "symbol": "circle"
         },
         "mode": "markers",
         "name": "Squamous, M",
         "orientation": "v",
         "showlegend": true,
         "type": "scatter",
         "x": [
          -140.68297899508312,
          -28.969271033539403,
          257.1811508813166,
          -123.43519152446129,
          -48.04555295552674,
          48.94030325362337,
          -38.3707353896564,
          -43.69629627293182,
          -79.19994476462102,
          18.994788924162656,
          -7.06728466764403,
          11.950573390890114,
          -35.71115977503682,
          -96.75853504914522,
          -40.7032469152235,
          -131.87811200315954,
          7.90762438458385,
          -57.41689635568139,
          29.22808708411271,
          -62.463654068569795,
          -41.852835953594564,
          -73.73207460182658,
          -145.91635756857727,
          -95.548492986183,
          -141.23416197035095,
          -89.53982916557389,
          -74.13698711439503,
          -12.557616429131109,
          -175.49118161888714
         ],
         "xaxis": "x",
         "y": [
          74.62022897930896,
          -44.915361833771236,
          229.18288433203048,
          6.507859715663636,
          17.160193458168433,
          32.42267019284654,
          12.644940747751711,
          32.342194929398644,
          34.33930824584016,
          -52.58920681992163,
          -45.397286082910085,
          41.849947045374726,
          62.189795894041254,
          15.377640396311422,
          4.095840890215078,
          23.84535260814404,
          -84.57667288719068,
          30.70938853276972,
          33.94493619229577,
          64.15732010070815,
          6.7356861143723545,
          -5.6131031146307,
          22.62961312251474,
          9.71650860041034,
          3.0294979823478885,
          3.4203420295269367,
          46.27617457859938,
          -21.690817668388547,
          25.46927893365377
         ],
         "yaxis": "y"
        },
        {
         "hovertemplate": "color=Squamous<br>symbol=F<br>PC2=%{x}<br>PC3=%{y}<extra></extra>",
         "legendgroup": "Squamous, F",
         "marker": {
          "color": "#636efa",
          "symbol": "diamond"
         },
         "mode": "markers",
         "name": "Squamous, F",
         "orientation": "v",
         "showlegend": true,
         "type": "scatter",
         "x": [
          -1.344819190763962,
          77.1887789523276,
          -40.615600005545524,
          -87.66549618936,
          -95.38141060649008,
          17.013786777394994,
          74.81197455598999
         ],
         "xaxis": "x",
         "y": [
          33.435663164283355,
          76.19105342827689,
          -35.8733250397986,
          82.2466589086325,
          41.06490131586435,
          45.59155783083638,
          -18.504000051943727
         ],
         "yaxis": "y"
        },
        {
         "hovertemplate": "color=Adenocarcinoma<br>symbol=M<br>PC2=%{x}<br>PC3=%{y}<extra></extra>",
         "legendgroup": "Adenocarcinoma, M",
         "marker": {
          "color": "#EF553B",
          "symbol": "circle"
         },
         "mode": "markers",
         "name": "Adenocarcinoma, M",
         "orientation": "v",
         "showlegend": true,
         "type": "scatter",
         "x": [
          133.71796219945742,
          -35.72527887055656,
          85.9202356200318,
          -36.812273225848216,
          35.21709208746191,
          78.12970157524035,
          49.13448853170989,
          75.36750965669484,
          24.748356901110924,
          92.56667231862706,
          -5.008673678948394,
          4.624141384221174,
          71.83444325375166,
          42.983058797122084,
          79.35576455801714,
          30.10425238004163,
          7.253277694473926,
          -56.86599958416913,
          -14.795928742038154,
          -9.038859524567645,
          22.24169546226971,
          -0.3181758908314112,
          11.707598869121373
         ],
         "xaxis": "x",
         "y": [
          27.095055756893796,
          12.865420872607938,
          8.545780395120282,
          -31.24471620869909,
          1.417657354576893,
          -78.20419721665941,
          -13.796053665302964,
          52.39465546336539,
          -62.812213049230685,
          61.027972129930234,
          -76.11610988324563,
          -17.112197370545182,
          -51.528292290615376,
          -29.373888485356805,
          -123.9337063800691,
          0.33068652672434207,
          -68.83953732700121,
          17.134271094314943,
          -89.35250808677287,
          42.511791750438505,
          -86.5965173737385,
          -57.00494084331683,
          -24.895382089835913
         ],
         "yaxis": "y"
        },
        {
         "hovertemplate": "color=Adenocarcinoma<br>symbol=F<br>PC2=%{x}<br>PC3=%{y}<extra></extra>",
         "legendgroup": "Adenocarcinoma, F",
         "marker": {
          "color": "#EF553B",
          "symbol": "diamond"
         },
         "mode": "markers",
         "name": "Adenocarcinoma, F",
         "orientation": "v",
         "showlegend": true,
         "type": "scatter",
         "x": [
          34.05014285874267,
          58.62169232874229,
          88.08151095512426,
          -21.529173225718232,
          -11.29467318905905,
          -10.675300688079393,
          133.67790671461916,
          -12.02661930728566,
          5.555022042521986,
          33.60906345581785,
          44.406921294193324,
          137.4958616429907,
          46.88572106138812,
          35.96938457080445,
          89.77095513718137,
          -32.36731477088212,
          17.472437178601826,
          -4.41684691111218,
          55.28964269688875
         ],
         "xaxis": "x",
         "y": [
          7.608190442513482,
          -49.1963678548328,
          83.49508286357704,
          43.40845497682734,
          29.536772578444733,
          -11.254199776673579,
          71.4080345647707,
          -35.85169078861651,
          4.065305276058968,
          -16.564191038228863,
          20.893280542166664,
          -44.49323120158081,
          -140.00874426642835,
          -75.47226249888075,
          9.258953521918631,
          18.54282193675666,
          11.919312363614317,
          -32.53441340340984,
          -5.1319212406044175
         ],
         "yaxis": "y"
        },
        {
         "hovertemplate": "color=Others<br>symbol=M<br>PC2=%{x}<br>PC3=%{y}<extra></extra>",
         "legendgroup": "Others, M",
         "marker": {
          "color": "#00cc96",
          "symbol": "circle"
         },
         "mode": "markers",
         "name": "Others, M",
         "orientation": "v",
         "showlegend": true,
         "type": "scatter",
         "x": [
          -35.22963480821672,
          -44.65769784247526,
          77.51489185680133,
          62.323158218934644,
          -34.50613790899276,
          -76.7227842736847,
          12.954789725691484,
          -44.483649558173326
         ],
         "xaxis": "x",
         "y": [
          6.878617776679278,
          -2.589178032896614,
          -10.363921539133695,
          -39.43213030091256,
          29.88618292163125,
          -40.72162194725209,
          109.76996113481533,
          -58.51279534695922
         ],
         "yaxis": "y"
        },
        {
         "hovertemplate": "color=Others<br>symbol=F<br>PC2=%{x}<br>PC3=%{y}<extra></extra>",
         "legendgroup": "Others, F",
         "marker": {
          "color": "#00cc96",
          "symbol": "diamond"
         },
         "mode": "markers",
         "name": "Others, F",
         "orientation": "v",
         "showlegend": true,
         "type": "scatter",
         "x": [
          110.92613217531672,
          3.7925625616995635,
          59.3696292017828
         ],
         "xaxis": "x",
         "y": [
          -12.603201136240202,
          -5.034320909481783,
          -81.45747546285729
         ],
         "yaxis": "y"
        }
       ],
       "layout": {
        "legend": {
         "title": {
          "text": "color, symbol"
         },
         "tracegroupgap": 0
        },
        "template": {
         "data": {
          "bar": [
           {
            "error_x": {
             "color": "#2a3f5f"
            },
            "error_y": {
             "color": "#2a3f5f"
            },
            "marker": {
             "line": {
              "color": "#E5ECF6",
              "width": 0.5
             },
             "pattern": {
              "fillmode": "overlay",
              "size": 10,
              "solidity": 0.2
             }
            },
            "type": "bar"
           }
          ],
          "barpolar": [
           {
            "marker": {
             "line": {
              "color": "#E5ECF6",
              "width": 0.5
             },
             "pattern": {
              "fillmode": "overlay",
              "size": 10,
              "solidity": 0.2
             }
            },
            "type": "barpolar"
           }
          ],
          "carpet": [
           {
            "aaxis": {
             "endlinecolor": "#2a3f5f",
             "gridcolor": "white",
             "linecolor": "white",
             "minorgridcolor": "white",
             "startlinecolor": "#2a3f5f"
            },
            "baxis": {
             "endlinecolor": "#2a3f5f",
             "gridcolor": "white",
             "linecolor": "white",
             "minorgridcolor": "white",
             "startlinecolor": "#2a3f5f"
            },
            "type": "carpet"
           }
          ],
          "choropleth": [
           {
            "colorbar": {
             "outlinewidth": 0,
             "ticks": ""
            },
            "type": "choropleth"
           }
          ],
          "contour": [
           {
            "colorbar": {
             "outlinewidth": 0,
             "ticks": ""
            },
            "colorscale": [
             [
              0,
              "#0d0887"
             ],
             [
              0.1111111111111111,
              "#46039f"
             ],
             [
              0.2222222222222222,
              "#7201a8"
             ],
             [
              0.3333333333333333,
              "#9c179e"
             ],
             [
              0.4444444444444444,
              "#bd3786"
             ],
             [
              0.5555555555555556,
              "#d8576b"
             ],
             [
              0.6666666666666666,
              "#ed7953"
             ],
             [
              0.7777777777777778,
              "#fb9f3a"
             ],
             [
              0.8888888888888888,
              "#fdca26"
             ],
             [
              1,
              "#f0f921"
             ]
            ],
            "type": "contour"
           }
          ],
          "contourcarpet": [
           {
            "colorbar": {
             "outlinewidth": 0,
             "ticks": ""
            },
            "type": "contourcarpet"
           }
          ],
          "heatmap": [
           {
            "colorbar": {
             "outlinewidth": 0,
             "ticks": ""
            },
            "colorscale": [
             [
              0,
              "#0d0887"
             ],
             [
              0.1111111111111111,
              "#46039f"
             ],
             [
              0.2222222222222222,
              "#7201a8"
             ],
             [
              0.3333333333333333,
              "#9c179e"
             ],
             [
              0.4444444444444444,
              "#bd3786"
             ],
             [
              0.5555555555555556,
              "#d8576b"
             ],
             [
              0.6666666666666666,
              "#ed7953"
             ],
             [
              0.7777777777777778,
              "#fb9f3a"
             ],
             [
              0.8888888888888888,
              "#fdca26"
             ],
             [
              1,
              "#f0f921"
             ]
            ],
            "type": "heatmap"
           }
          ],
          "heatmapgl": [
           {
            "colorbar": {
             "outlinewidth": 0,
             "ticks": ""
            },
            "colorscale": [
             [
              0,
              "#0d0887"
             ],
             [
              0.1111111111111111,
              "#46039f"
             ],
             [
              0.2222222222222222,
              "#7201a8"
             ],
             [
              0.3333333333333333,
              "#9c179e"
             ],
             [
              0.4444444444444444,
              "#bd3786"
             ],
             [
              0.5555555555555556,
              "#d8576b"
             ],
             [
              0.6666666666666666,
              "#ed7953"
             ],
             [
              0.7777777777777778,
              "#fb9f3a"
             ],
             [
              0.8888888888888888,
              "#fdca26"
             ],
             [
              1,
              "#f0f921"
             ]
            ],
            "type": "heatmapgl"
           }
          ],
          "histogram": [
           {
            "marker": {
             "pattern": {
              "fillmode": "overlay",
              "size": 10,
              "solidity": 0.2
             }
            },
            "type": "histogram"
           }
          ],
          "histogram2d": [
           {
            "colorbar": {
             "outlinewidth": 0,
             "ticks": ""
            },
            "colorscale": [
             [
              0,
              "#0d0887"
             ],
             [
              0.1111111111111111,
              "#46039f"
             ],
             [
              0.2222222222222222,
              "#7201a8"
             ],
             [
              0.3333333333333333,
              "#9c179e"
             ],
             [
              0.4444444444444444,
              "#bd3786"
             ],
             [
              0.5555555555555556,
              "#d8576b"
             ],
             [
              0.6666666666666666,
              "#ed7953"
             ],
             [
              0.7777777777777778,
              "#fb9f3a"
             ],
             [
              0.8888888888888888,
              "#fdca26"
             ],
             [
              1,
              "#f0f921"
             ]
            ],
            "type": "histogram2d"
           }
          ],
          "histogram2dcontour": [
           {
            "colorbar": {
             "outlinewidth": 0,
             "ticks": ""
            },
            "colorscale": [
             [
              0,
              "#0d0887"
             ],
             [
              0.1111111111111111,
              "#46039f"
             ],
             [
              0.2222222222222222,
              "#7201a8"
             ],
             [
              0.3333333333333333,
              "#9c179e"
             ],
             [
              0.4444444444444444,
              "#bd3786"
             ],
             [
              0.5555555555555556,
              "#d8576b"
             ],
             [
              0.6666666666666666,
              "#ed7953"
             ],
             [
              0.7777777777777778,
              "#fb9f3a"
             ],
             [
              0.8888888888888888,
              "#fdca26"
             ],
             [
              1,
              "#f0f921"
             ]
            ],
            "type": "histogram2dcontour"
           }
          ],
          "mesh3d": [
           {
            "colorbar": {
             "outlinewidth": 0,
             "ticks": ""
            },
            "type": "mesh3d"
           }
          ],
          "parcoords": [
           {
            "line": {
             "colorbar": {
              "outlinewidth": 0,
              "ticks": ""
             }
            },
            "type": "parcoords"
           }
          ],
          "pie": [
           {
            "automargin": true,
            "type": "pie"
           }
          ],
          "scatter": [
           {
            "marker": {
             "colorbar": {
              "outlinewidth": 0,
              "ticks": ""
             }
            },
            "type": "scatter"
           }
          ],
          "scatter3d": [
           {
            "line": {
             "colorbar": {
              "outlinewidth": 0,
              "ticks": ""
             }
            },
            "marker": {
             "colorbar": {
              "outlinewidth": 0,
              "ticks": ""
             }
            },
            "type": "scatter3d"
           }
          ],
          "scattercarpet": [
           {
            "marker": {
             "colorbar": {
              "outlinewidth": 0,
              "ticks": ""
             }
            },
            "type": "scattercarpet"
           }
          ],
          "scattergeo": [
           {
            "marker": {
             "colorbar": {
              "outlinewidth": 0,
              "ticks": ""
             }
            },
            "type": "scattergeo"
           }
          ],
          "scattergl": [
           {
            "marker": {
             "colorbar": {
              "outlinewidth": 0,
              "ticks": ""
             }
            },
            "type": "scattergl"
           }
          ],
          "scattermapbox": [
           {
            "marker": {
             "colorbar": {
              "outlinewidth": 0,
              "ticks": ""
             }
            },
            "type": "scattermapbox"
           }
          ],
          "scatterpolar": [
           {
            "marker": {
             "colorbar": {
              "outlinewidth": 0,
              "ticks": ""
             }
            },
            "type": "scatterpolar"
           }
          ],
          "scatterpolargl": [
           {
            "marker": {
             "colorbar": {
              "outlinewidth": 0,
              "ticks": ""
             }
            },
            "type": "scatterpolargl"
           }
          ],
          "scatterternary": [
           {
            "marker": {
             "colorbar": {
              "outlinewidth": 0,
              "ticks": ""
             }
            },
            "type": "scatterternary"
           }
          ],
          "surface": [
           {
            "colorbar": {
             "outlinewidth": 0,
             "ticks": ""
            },
            "colorscale": [
             [
              0,
              "#0d0887"
             ],
             [
              0.1111111111111111,
              "#46039f"
             ],
             [
              0.2222222222222222,
              "#7201a8"
             ],
             [
              0.3333333333333333,
              "#9c179e"
             ],
             [
              0.4444444444444444,
              "#bd3786"
             ],
             [
              0.5555555555555556,
              "#d8576b"
             ],
             [
              0.6666666666666666,
              "#ed7953"
             ],
             [
              0.7777777777777778,
              "#fb9f3a"
             ],
             [
              0.8888888888888888,
              "#fdca26"
             ],
             [
              1,
              "#f0f921"
             ]
            ],
            "type": "surface"
           }
          ],
          "table": [
           {
            "cells": {
             "fill": {
              "color": "#EBF0F8"
             },
             "line": {
              "color": "white"
             }
            },
            "header": {
             "fill": {
              "color": "#C8D4E3"
             },
             "line": {
              "color": "white"
             }
            },
            "type": "table"
           }
          ]
         },
         "layout": {
          "annotationdefaults": {
           "arrowcolor": "#2a3f5f",
           "arrowhead": 0,
           "arrowwidth": 1
          },
          "autotypenumbers": "strict",
          "coloraxis": {
           "colorbar": {
            "outlinewidth": 0,
            "ticks": ""
           }
          },
          "colorscale": {
           "diverging": [
            [
             0,
             "#8e0152"
            ],
            [
             0.1,
             "#c51b7d"
            ],
            [
             0.2,
             "#de77ae"
            ],
            [
             0.3,
             "#f1b6da"
            ],
            [
             0.4,
             "#fde0ef"
            ],
            [
             0.5,
             "#f7f7f7"
            ],
            [
             0.6,
             "#e6f5d0"
            ],
            [
             0.7,
             "#b8e186"
            ],
            [
             0.8,
             "#7fbc41"
            ],
            [
             0.9,
             "#4d9221"
            ],
            [
             1,
             "#276419"
            ]
           ],
           "sequential": [
            [
             0,
             "#0d0887"
            ],
            [
             0.1111111111111111,
             "#46039f"
            ],
            [
             0.2222222222222222,
             "#7201a8"
            ],
            [
             0.3333333333333333,
             "#9c179e"
            ],
            [
             0.4444444444444444,
             "#bd3786"
            ],
            [
             0.5555555555555556,
             "#d8576b"
            ],
            [
             0.6666666666666666,
             "#ed7953"
            ],
            [
             0.7777777777777778,
             "#fb9f3a"
            ],
            [
             0.8888888888888888,
             "#fdca26"
            ],
            [
             1,
             "#f0f921"
            ]
           ],
           "sequentialminus": [
            [
             0,
             "#0d0887"
            ],
            [
             0.1111111111111111,
             "#46039f"
            ],
            [
             0.2222222222222222,
             "#7201a8"
            ],
            [
             0.3333333333333333,
             "#9c179e"
            ],
            [
             0.4444444444444444,
             "#bd3786"
            ],
            [
             0.5555555555555556,
             "#d8576b"
            ],
            [
             0.6666666666666666,
             "#ed7953"
            ],
            [
             0.7777777777777778,
             "#fb9f3a"
            ],
            [
             0.8888888888888888,
             "#fdca26"
            ],
            [
             1,
             "#f0f921"
            ]
           ]
          },
          "colorway": [
           "#636efa",
           "#EF553B",
           "#00cc96",
           "#ab63fa",
           "#FFA15A",
           "#19d3f3",
           "#FF6692",
           "#B6E880",
           "#FF97FF",
           "#FECB52"
          ],
          "font": {
           "color": "#2a3f5f"
          },
          "geo": {
           "bgcolor": "white",
           "lakecolor": "white",
           "landcolor": "#E5ECF6",
           "showlakes": true,
           "showland": true,
           "subunitcolor": "white"
          },
          "hoverlabel": {
           "align": "left"
          },
          "hovermode": "closest",
          "mapbox": {
           "style": "light"
          },
          "paper_bgcolor": "white",
          "plot_bgcolor": "#E5ECF6",
          "polar": {
           "angularaxis": {
            "gridcolor": "white",
            "linecolor": "white",
            "ticks": ""
           },
           "bgcolor": "#E5ECF6",
           "radialaxis": {
            "gridcolor": "white",
            "linecolor": "white",
            "ticks": ""
           }
          },
          "scene": {
           "xaxis": {
            "backgroundcolor": "#E5ECF6",
            "gridcolor": "white",
            "gridwidth": 2,
            "linecolor": "white",
            "showbackground": true,
            "ticks": "",
            "zerolinecolor": "white"
           },
           "yaxis": {
            "backgroundcolor": "#E5ECF6",
            "gridcolor": "white",
            "gridwidth": 2,
            "linecolor": "white",
            "showbackground": true,
            "ticks": "",
            "zerolinecolor": "white"
           },
           "zaxis": {
            "backgroundcolor": "#E5ECF6",
            "gridcolor": "white",
            "gridwidth": 2,
            "linecolor": "white",
            "showbackground": true,
            "ticks": "",
            "zerolinecolor": "white"
           }
          },
          "shapedefaults": {
           "line": {
            "color": "#2a3f5f"
           }
          },
          "ternary": {
           "aaxis": {
            "gridcolor": "white",
            "linecolor": "white",
            "ticks": ""
           },
           "baxis": {
            "gridcolor": "white",
            "linecolor": "white",
            "ticks": ""
           },
           "bgcolor": "#E5ECF6",
           "caxis": {
            "gridcolor": "white",
            "linecolor": "white",
            "ticks": ""
           }
          },
          "title": {
           "x": 0.05
          },
          "xaxis": {
           "automargin": true,
           "gridcolor": "white",
           "linecolor": "white",
           "ticks": "",
           "title": {
            "standoff": 15
           },
           "zerolinecolor": "white",
           "zerolinewidth": 2
          },
          "yaxis": {
           "automargin": true,
           "gridcolor": "white",
           "linecolor": "white",
           "ticks": "",
           "title": {
            "standoff": 15
           },
           "zerolinecolor": "white",
           "zerolinewidth": 2
          }
         }
        },
        "title": {
         "text": "Scatter plot PC2 and PC3"
        },
        "xaxis": {
         "anchor": "y",
         "domain": [
          0,
          1
         ],
         "title": {
          "text": "PC2"
         }
        },
        "yaxis": {
         "anchor": "x",
         "domain": [
          0,
          1
         ],
         "title": {
          "text": "PC3"
         }
        }
       }
      },
      "text/html": [
       "<div>                            <div id=\"aae4cacd-0959-4e61-a66e-cc2a686822bc\" class=\"plotly-graph-div\" style=\"height:525px; width:100%;\"></div>            <script type=\"text/javascript\">                require([\"plotly\"], function(Plotly) {                    window.PLOTLYENV=window.PLOTLYENV || {};                                    if (document.getElementById(\"aae4cacd-0959-4e61-a66e-cc2a686822bc\")) {                    Plotly.newPlot(                        \"aae4cacd-0959-4e61-a66e-cc2a686822bc\",                        [{\"hovertemplate\":\"color=Squamous<br>symbol=M<br>PC2=%{x}<br>PC3=%{y}<extra></extra>\",\"legendgroup\":\"Squamous, M\",\"marker\":{\"color\":\"#636efa\",\"symbol\":\"circle\"},\"mode\":\"markers\",\"name\":\"Squamous, M\",\"orientation\":\"v\",\"showlegend\":true,\"x\":[-140.68297899508312,-28.969271033539403,257.1811508813166,-123.43519152446129,-48.04555295552674,48.94030325362337,-38.3707353896564,-43.69629627293182,-79.19994476462102,18.994788924162656,-7.06728466764403,11.950573390890114,-35.71115977503682,-96.75853504914522,-40.7032469152235,-131.87811200315954,7.90762438458385,-57.41689635568139,29.22808708411271,-62.463654068569795,-41.852835953594564,-73.73207460182658,-145.91635756857727,-95.548492986183,-141.23416197035095,-89.53982916557389,-74.13698711439503,-12.557616429131109,-175.49118161888714],\"xaxis\":\"x\",\"y\":[74.62022897930896,-44.915361833771236,229.18288433203048,6.507859715663636,17.160193458168433,32.42267019284654,12.644940747751711,32.342194929398644,34.33930824584016,-52.58920681992163,-45.397286082910085,41.849947045374726,62.189795894041254,15.377640396311422,4.095840890215078,23.84535260814404,-84.57667288719068,30.70938853276972,33.94493619229577,64.15732010070815,6.7356861143723545,-5.6131031146307,22.62961312251474,9.71650860041034,3.0294979823478885,3.4203420295269367,46.27617457859938,-21.690817668388547,25.46927893365377],\"yaxis\":\"y\",\"type\":\"scatter\"},{\"hovertemplate\":\"color=Squamous<br>symbol=F<br>PC2=%{x}<br>PC3=%{y}<extra></extra>\",\"legendgroup\":\"Squamous, F\",\"marker\":{\"color\":\"#636efa\",\"symbol\":\"diamond\"},\"mode\":\"markers\",\"name\":\"Squamous, F\",\"orientation\":\"v\",\"showlegend\":true,\"x\":[-1.344819190763962,77.1887789523276,-40.615600005545524,-87.66549618936,-95.38141060649008,17.013786777394994,74.81197455598999],\"xaxis\":\"x\",\"y\":[33.435663164283355,76.19105342827689,-35.8733250397986,82.2466589086325,41.06490131586435,45.59155783083638,-18.504000051943727],\"yaxis\":\"y\",\"type\":\"scatter\"},{\"hovertemplate\":\"color=Adenocarcinoma<br>symbol=M<br>PC2=%{x}<br>PC3=%{y}<extra></extra>\",\"legendgroup\":\"Adenocarcinoma, M\",\"marker\":{\"color\":\"#EF553B\",\"symbol\":\"circle\"},\"mode\":\"markers\",\"name\":\"Adenocarcinoma, M\",\"orientation\":\"v\",\"showlegend\":true,\"x\":[133.71796219945742,-35.72527887055656,85.9202356200318,-36.812273225848216,35.21709208746191,78.12970157524035,49.13448853170989,75.36750965669484,24.748356901110924,92.56667231862706,-5.008673678948394,4.624141384221174,71.83444325375166,42.983058797122084,79.35576455801714,30.10425238004163,7.253277694473926,-56.86599958416913,-14.795928742038154,-9.038859524567645,22.24169546226971,-0.3181758908314112,11.707598869121373],\"xaxis\":\"x\",\"y\":[27.095055756893796,12.865420872607938,8.545780395120282,-31.24471620869909,1.417657354576893,-78.20419721665941,-13.796053665302964,52.39465546336539,-62.812213049230685,61.027972129930234,-76.11610988324563,-17.112197370545182,-51.528292290615376,-29.373888485356805,-123.9337063800691,0.33068652672434207,-68.83953732700121,17.134271094314943,-89.35250808677287,42.511791750438505,-86.5965173737385,-57.00494084331683,-24.895382089835913],\"yaxis\":\"y\",\"type\":\"scatter\"},{\"hovertemplate\":\"color=Adenocarcinoma<br>symbol=F<br>PC2=%{x}<br>PC3=%{y}<extra></extra>\",\"legendgroup\":\"Adenocarcinoma, F\",\"marker\":{\"color\":\"#EF553B\",\"symbol\":\"diamond\"},\"mode\":\"markers\",\"name\":\"Adenocarcinoma, F\",\"orientation\":\"v\",\"showlegend\":true,\"x\":[34.05014285874267,58.62169232874229,88.08151095512426,-21.529173225718232,-11.29467318905905,-10.675300688079393,133.67790671461916,-12.02661930728566,5.555022042521986,33.60906345581785,44.406921294193324,137.4958616429907,46.88572106138812,35.96938457080445,89.77095513718137,-32.36731477088212,17.472437178601826,-4.41684691111218,55.28964269688875],\"xaxis\":\"x\",\"y\":[7.608190442513482,-49.1963678548328,83.49508286357704,43.40845497682734,29.536772578444733,-11.254199776673579,71.4080345647707,-35.85169078861651,4.065305276058968,-16.564191038228863,20.893280542166664,-44.49323120158081,-140.00874426642835,-75.47226249888075,9.258953521918631,18.54282193675666,11.919312363614317,-32.53441340340984,-5.1319212406044175],\"yaxis\":\"y\",\"type\":\"scatter\"},{\"hovertemplate\":\"color=Others<br>symbol=M<br>PC2=%{x}<br>PC3=%{y}<extra></extra>\",\"legendgroup\":\"Others, M\",\"marker\":{\"color\":\"#00cc96\",\"symbol\":\"circle\"},\"mode\":\"markers\",\"name\":\"Others, M\",\"orientation\":\"v\",\"showlegend\":true,\"x\":[-35.22963480821672,-44.65769784247526,77.51489185680133,62.323158218934644,-34.50613790899276,-76.7227842736847,12.954789725691484,-44.483649558173326],\"xaxis\":\"x\",\"y\":[6.878617776679278,-2.589178032896614,-10.363921539133695,-39.43213030091256,29.88618292163125,-40.72162194725209,109.76996113481533,-58.51279534695922],\"yaxis\":\"y\",\"type\":\"scatter\"},{\"hovertemplate\":\"color=Others<br>symbol=F<br>PC2=%{x}<br>PC3=%{y}<extra></extra>\",\"legendgroup\":\"Others, F\",\"marker\":{\"color\":\"#00cc96\",\"symbol\":\"diamond\"},\"mode\":\"markers\",\"name\":\"Others, F\",\"orientation\":\"v\",\"showlegend\":true,\"x\":[110.92613217531672,3.7925625616995635,59.3696292017828],\"xaxis\":\"x\",\"y\":[-12.603201136240202,-5.034320909481783,-81.45747546285729],\"yaxis\":\"y\",\"type\":\"scatter\"}],                        {\"template\":{\"data\":{\"bar\":[{\"error_x\":{\"color\":\"#2a3f5f\"},\"error_y\":{\"color\":\"#2a3f5f\"},\"marker\":{\"line\":{\"color\":\"#E5ECF6\",\"width\":0.5},\"pattern\":{\"fillmode\":\"overlay\",\"size\":10,\"solidity\":0.2}},\"type\":\"bar\"}],\"barpolar\":[{\"marker\":{\"line\":{\"color\":\"#E5ECF6\",\"width\":0.5},\"pattern\":{\"fillmode\":\"overlay\",\"size\":10,\"solidity\":0.2}},\"type\":\"barpolar\"}],\"carpet\":[{\"aaxis\":{\"endlinecolor\":\"#2a3f5f\",\"gridcolor\":\"white\",\"linecolor\":\"white\",\"minorgridcolor\":\"white\",\"startlinecolor\":\"#2a3f5f\"},\"baxis\":{\"endlinecolor\":\"#2a3f5f\",\"gridcolor\":\"white\",\"linecolor\":\"white\",\"minorgridcolor\":\"white\",\"startlinecolor\":\"#2a3f5f\"},\"type\":\"carpet\"}],\"choropleth\":[{\"colorbar\":{\"outlinewidth\":0,\"ticks\":\"\"},\"type\":\"choropleth\"}],\"contour\":[{\"colorbar\":{\"outlinewidth\":0,\"ticks\":\"\"},\"colorscale\":[[0.0,\"#0d0887\"],[0.1111111111111111,\"#46039f\"],[0.2222222222222222,\"#7201a8\"],[0.3333333333333333,\"#9c179e\"],[0.4444444444444444,\"#bd3786\"],[0.5555555555555556,\"#d8576b\"],[0.6666666666666666,\"#ed7953\"],[0.7777777777777778,\"#fb9f3a\"],[0.8888888888888888,\"#fdca26\"],[1.0,\"#f0f921\"]],\"type\":\"contour\"}],\"contourcarpet\":[{\"colorbar\":{\"outlinewidth\":0,\"ticks\":\"\"},\"type\":\"contourcarpet\"}],\"heatmap\":[{\"colorbar\":{\"outlinewidth\":0,\"ticks\":\"\"},\"colorscale\":[[0.0,\"#0d0887\"],[0.1111111111111111,\"#46039f\"],[0.2222222222222222,\"#7201a8\"],[0.3333333333333333,\"#9c179e\"],[0.4444444444444444,\"#bd3786\"],[0.5555555555555556,\"#d8576b\"],[0.6666666666666666,\"#ed7953\"],[0.7777777777777778,\"#fb9f3a\"],[0.8888888888888888,\"#fdca26\"],[1.0,\"#f0f921\"]],\"type\":\"heatmap\"}],\"heatmapgl\":[{\"colorbar\":{\"outlinewidth\":0,\"ticks\":\"\"},\"colorscale\":[[0.0,\"#0d0887\"],[0.1111111111111111,\"#46039f\"],[0.2222222222222222,\"#7201a8\"],[0.3333333333333333,\"#9c179e\"],[0.4444444444444444,\"#bd3786\"],[0.5555555555555556,\"#d8576b\"],[0.6666666666666666,\"#ed7953\"],[0.7777777777777778,\"#fb9f3a\"],[0.8888888888888888,\"#fdca26\"],[1.0,\"#f0f921\"]],\"type\":\"heatmapgl\"}],\"histogram\":[{\"marker\":{\"pattern\":{\"fillmode\":\"overlay\",\"size\":10,\"solidity\":0.2}},\"type\":\"histogram\"}],\"histogram2d\":[{\"colorbar\":{\"outlinewidth\":0,\"ticks\":\"\"},\"colorscale\":[[0.0,\"#0d0887\"],[0.1111111111111111,\"#46039f\"],[0.2222222222222222,\"#7201a8\"],[0.3333333333333333,\"#9c179e\"],[0.4444444444444444,\"#bd3786\"],[0.5555555555555556,\"#d8576b\"],[0.6666666666666666,\"#ed7953\"],[0.7777777777777778,\"#fb9f3a\"],[0.8888888888888888,\"#fdca26\"],[1.0,\"#f0f921\"]],\"type\":\"histogram2d\"}],\"histogram2dcontour\":[{\"colorbar\":{\"outlinewidth\":0,\"ticks\":\"\"},\"colorscale\":[[0.0,\"#0d0887\"],[0.1111111111111111,\"#46039f\"],[0.2222222222222222,\"#7201a8\"],[0.3333333333333333,\"#9c179e\"],[0.4444444444444444,\"#bd3786\"],[0.5555555555555556,\"#d8576b\"],[0.6666666666666666,\"#ed7953\"],[0.7777777777777778,\"#fb9f3a\"],[0.8888888888888888,\"#fdca26\"],[1.0,\"#f0f921\"]],\"type\":\"histogram2dcontour\"}],\"mesh3d\":[{\"colorbar\":{\"outlinewidth\":0,\"ticks\":\"\"},\"type\":\"mesh3d\"}],\"parcoords\":[{\"line\":{\"colorbar\":{\"outlinewidth\":0,\"ticks\":\"\"}},\"type\":\"parcoords\"}],\"pie\":[{\"automargin\":true,\"type\":\"pie\"}],\"scatter\":[{\"marker\":{\"colorbar\":{\"outlinewidth\":0,\"ticks\":\"\"}},\"type\":\"scatter\"}],\"scatter3d\":[{\"line\":{\"colorbar\":{\"outlinewidth\":0,\"ticks\":\"\"}},\"marker\":{\"colorbar\":{\"outlinewidth\":0,\"ticks\":\"\"}},\"type\":\"scatter3d\"}],\"scattercarpet\":[{\"marker\":{\"colorbar\":{\"outlinewidth\":0,\"ticks\":\"\"}},\"type\":\"scattercarpet\"}],\"scattergeo\":[{\"marker\":{\"colorbar\":{\"outlinewidth\":0,\"ticks\":\"\"}},\"type\":\"scattergeo\"}],\"scattergl\":[{\"marker\":{\"colorbar\":{\"outlinewidth\":0,\"ticks\":\"\"}},\"type\":\"scattergl\"}],\"scattermapbox\":[{\"marker\":{\"colorbar\":{\"outlinewidth\":0,\"ticks\":\"\"}},\"type\":\"scattermapbox\"}],\"scatterpolar\":[{\"marker\":{\"colorbar\":{\"outlinewidth\":0,\"ticks\":\"\"}},\"type\":\"scatterpolar\"}],\"scatterpolargl\":[{\"marker\":{\"colorbar\":{\"outlinewidth\":0,\"ticks\":\"\"}},\"type\":\"scatterpolargl\"}],\"scatterternary\":[{\"marker\":{\"colorbar\":{\"outlinewidth\":0,\"ticks\":\"\"}},\"type\":\"scatterternary\"}],\"surface\":[{\"colorbar\":{\"outlinewidth\":0,\"ticks\":\"\"},\"colorscale\":[[0.0,\"#0d0887\"],[0.1111111111111111,\"#46039f\"],[0.2222222222222222,\"#7201a8\"],[0.3333333333333333,\"#9c179e\"],[0.4444444444444444,\"#bd3786\"],[0.5555555555555556,\"#d8576b\"],[0.6666666666666666,\"#ed7953\"],[0.7777777777777778,\"#fb9f3a\"],[0.8888888888888888,\"#fdca26\"],[1.0,\"#f0f921\"]],\"type\":\"surface\"}],\"table\":[{\"cells\":{\"fill\":{\"color\":\"#EBF0F8\"},\"line\":{\"color\":\"white\"}},\"header\":{\"fill\":{\"color\":\"#C8D4E3\"},\"line\":{\"color\":\"white\"}},\"type\":\"table\"}]},\"layout\":{\"annotationdefaults\":{\"arrowcolor\":\"#2a3f5f\",\"arrowhead\":0,\"arrowwidth\":1},\"autotypenumbers\":\"strict\",\"coloraxis\":{\"colorbar\":{\"outlinewidth\":0,\"ticks\":\"\"}},\"colorscale\":{\"diverging\":[[0,\"#8e0152\"],[0.1,\"#c51b7d\"],[0.2,\"#de77ae\"],[0.3,\"#f1b6da\"],[0.4,\"#fde0ef\"],[0.5,\"#f7f7f7\"],[0.6,\"#e6f5d0\"],[0.7,\"#b8e186\"],[0.8,\"#7fbc41\"],[0.9,\"#4d9221\"],[1,\"#276419\"]],\"sequential\":[[0.0,\"#0d0887\"],[0.1111111111111111,\"#46039f\"],[0.2222222222222222,\"#7201a8\"],[0.3333333333333333,\"#9c179e\"],[0.4444444444444444,\"#bd3786\"],[0.5555555555555556,\"#d8576b\"],[0.6666666666666666,\"#ed7953\"],[0.7777777777777778,\"#fb9f3a\"],[0.8888888888888888,\"#fdca26\"],[1.0,\"#f0f921\"]],\"sequentialminus\":[[0.0,\"#0d0887\"],[0.1111111111111111,\"#46039f\"],[0.2222222222222222,\"#7201a8\"],[0.3333333333333333,\"#9c179e\"],[0.4444444444444444,\"#bd3786\"],[0.5555555555555556,\"#d8576b\"],[0.6666666666666666,\"#ed7953\"],[0.7777777777777778,\"#fb9f3a\"],[0.8888888888888888,\"#fdca26\"],[1.0,\"#f0f921\"]]},\"colorway\":[\"#636efa\",\"#EF553B\",\"#00cc96\",\"#ab63fa\",\"#FFA15A\",\"#19d3f3\",\"#FF6692\",\"#B6E880\",\"#FF97FF\",\"#FECB52\"],\"font\":{\"color\":\"#2a3f5f\"},\"geo\":{\"bgcolor\":\"white\",\"lakecolor\":\"white\",\"landcolor\":\"#E5ECF6\",\"showlakes\":true,\"showland\":true,\"subunitcolor\":\"white\"},\"hoverlabel\":{\"align\":\"left\"},\"hovermode\":\"closest\",\"mapbox\":{\"style\":\"light\"},\"paper_bgcolor\":\"white\",\"plot_bgcolor\":\"#E5ECF6\",\"polar\":{\"angularaxis\":{\"gridcolor\":\"white\",\"linecolor\":\"white\",\"ticks\":\"\"},\"bgcolor\":\"#E5ECF6\",\"radialaxis\":{\"gridcolor\":\"white\",\"linecolor\":\"white\",\"ticks\":\"\"}},\"scene\":{\"xaxis\":{\"backgroundcolor\":\"#E5ECF6\",\"gridcolor\":\"white\",\"gridwidth\":2,\"linecolor\":\"white\",\"showbackground\":true,\"ticks\":\"\",\"zerolinecolor\":\"white\"},\"yaxis\":{\"backgroundcolor\":\"#E5ECF6\",\"gridcolor\":\"white\",\"gridwidth\":2,\"linecolor\":\"white\",\"showbackground\":true,\"ticks\":\"\",\"zerolinecolor\":\"white\"},\"zaxis\":{\"backgroundcolor\":\"#E5ECF6\",\"gridcolor\":\"white\",\"gridwidth\":2,\"linecolor\":\"white\",\"showbackground\":true,\"ticks\":\"\",\"zerolinecolor\":\"white\"}},\"shapedefaults\":{\"line\":{\"color\":\"#2a3f5f\"}},\"ternary\":{\"aaxis\":{\"gridcolor\":\"white\",\"linecolor\":\"white\",\"ticks\":\"\"},\"baxis\":{\"gridcolor\":\"white\",\"linecolor\":\"white\",\"ticks\":\"\"},\"bgcolor\":\"#E5ECF6\",\"caxis\":{\"gridcolor\":\"white\",\"linecolor\":\"white\",\"ticks\":\"\"}},\"title\":{\"x\":0.05},\"xaxis\":{\"automargin\":true,\"gridcolor\":\"white\",\"linecolor\":\"white\",\"ticks\":\"\",\"title\":{\"standoff\":15},\"zerolinecolor\":\"white\",\"zerolinewidth\":2},\"yaxis\":{\"automargin\":true,\"gridcolor\":\"white\",\"linecolor\":\"white\",\"ticks\":\"\",\"title\":{\"standoff\":15},\"zerolinecolor\":\"white\",\"zerolinewidth\":2}}},\"xaxis\":{\"anchor\":\"y\",\"domain\":[0.0,1.0],\"title\":{\"text\":\"PC2\"}},\"yaxis\":{\"anchor\":\"x\",\"domain\":[0.0,1.0],\"title\":{\"text\":\"PC3\"}},\"legend\":{\"title\":{\"text\":\"color, symbol\"},\"tracegroupgap\":0},\"title\":{\"text\":\"Scatter plot PC2 and PC3\"}},                        {\"responsive\": true}                    ).then(function(){\n",
       "                            \n",
       "var gd = document.getElementById('aae4cacd-0959-4e61-a66e-cc2a686822bc');\n",
       "var x = new MutationObserver(function (mutations, observer) {{\n",
       "        var display = window.getComputedStyle(gd).display;\n",
       "        if (!display || display === 'none') {{\n",
       "            console.log([gd, 'removed!']);\n",
       "            Plotly.purge(gd);\n",
       "            observer.disconnect();\n",
       "        }}\n",
       "}});\n",
       "\n",
       "// Listen for the removal of the full notebook cells\n",
       "var notebookContainer = gd.closest('#notebook-container');\n",
       "if (notebookContainer) {{\n",
       "    x.observe(notebookContainer, {childList: true});\n",
       "}}\n",
       "\n",
       "// Listen for the clearing of the current output cell\n",
       "var outputEl = gd.closest('.output');\n",
       "if (outputEl) {{\n",
       "    x.observe(outputEl, {childList: true});\n",
       "}}\n",
       "\n",
       "                        })                };                });            </script>        </div>"
      ]
     },
     "metadata": {},
     "output_type": "display_data"
    }
   ],
   "source": [
    "fig1 = px.scatter(projections,x=projections['PC2'], y=projections['PC3'], color=lungs_df['cancer_type'],symbol=lungs_df['Gender'],title='Scatter plot PC2 and PC3')#characteristics.tag.tumor.size.maximumdiameter\n",
    "fig1.show()"
   ]
  },
  {
   "attachments": {
    "newplot%20%283%29.png": {
     "image/png": "[encoded data removed]"
    }
   },
   "cell_type": "markdown",
   "id": "a3b22a08",
   "metadata": {},
   "source": [
    "![newplot%20%283%29.png](attachment:newplot%20%283%29.png)"
   ]
  },
  {
   "cell_type": "markdown",
   "id": "05a9afe1",
   "metadata": {},
   "source": [
    "Principal componet analysis doesnt show good seperation. This was expected as alomost 66 principal componenst were needed to explain 90 percent of variance."
   ]
  },
  {
   "cell_type": "markdown",
   "id": "245b5495",
   "metadata": {},
   "source": [
    "For the following sections tSNE and Kmeans clustering are implemented. Since tSNE is computationally complex algorithm, it is recommended to use tSNE with an dimensionality reduction algoritm.i.e. PCA\n",
    "\n",
    "The next cell executes tSNE on raw dataset."
   ]
  },
  {
   "cell_type": "code",
   "execution_count": 158,
   "id": "eedd0e26",
   "metadata": {},
   "outputs": [
    {
     "name": "stdout",
     "output_type": "stream",
     "text": [
      "[t-SNE] Computing 88 nearest neighbors...\n",
      "[t-SNE] Indexed 89 samples in 0.066s...\n",
      "[t-SNE] Computed neighbors for 89 samples in 0.072s...\n",
      "[t-SNE] Computed conditional probabilities for sample 89 / 89\n",
      "[t-SNE] Mean sigma: 107.882138\n",
      "[t-SNE] KL divergence after 250 iterations with early exaggeration: 60.088818\n",
      "[t-SNE] KL divergence after 800 iterations: 0.236016\n"
     ]
    },
    {
     "data": {
      "text/plain": [
       "(89, 2)"
      ]
     },
     "execution_count": 158,
     "metadata": {},
     "output_type": "execute_result"
    }
   ],
   "source": [
    "#tSNE on raw dataset\n",
    "from sklearn.manifold import TSNE\n",
    "tsne = TSNE(verbose=1, perplexity=40, n_iter= 4000,learning_rate='auto')\n",
    "Y = tsne.fit_transform(X)\n",
    "\n",
    "Y.shape\n"
   ]
  },
  {
   "cell_type": "code",
   "execution_count": 159,
   "id": "60c9c7b1",
   "metadata": {},
   "outputs": [
    {
     "data": {
      "application/vnd.plotly.v1+json": {
       "config": {
        "plotlyServerURL": "https://plot.ly"
       },
       "data": [
        {
         "hovertemplate": "color=Squamous<br>x=%{x}<br>y=%{y}<extra></extra>",
         "legendgroup": "Squamous",
         "marker": {
          "color": "#636efa",
          "symbol": "circle"
         },
         "mode": "markers",
         "name": "Squamous",
         "orientation": "v",
         "showlegend": true,
         "type": "scatter",
         "x": [
          1.6688668727874756,
          -0.012783949263393879,
          -1.3265074491500854,
          -1.871637225151062,
          0.6851441264152527,
          0.019843503832817078,
          0.011989385820925236,
          0.4178107678890228,
          0.24879606068134308,
          0.7683199644088745,
          0.043870266526937485,
          -1.6769920587539673,
          1.5263805389404297,
          0.16210441291332245,
          -0.5967422127723694,
          -0.33274540305137634,
          -0.6742801666259766,
          -0.1426495462656021,
          0.9856594800949097,
          2.0344464778900146,
          0.9633358716964722,
          -0.9729771614074707,
          1.2238256931304932,
          -0.1785450279712677,
          -0.10206914693117142,
          1.3153554201126099,
          1.1301807165145874,
          0.3087414503097534,
          1.1332288980484009,
          -0.21160888671875,
          0.20975945889949799,
          1.7878283262252808,
          0.03227933496236801,
          -0.08683335036039352,
          1.7468810081481934,
          -0.22963692247867584
         ],
         "xaxis": "x",
         "y": [
          6.575912952423096,
          5.250889301300049,
          7.236468315124512,
          1.6651835441589355,
          7.0857954025268555,
          5.896124839782715,
          3.6814889907836914,
          5.527002811431885,
          5.762609958648682,
          5.811885356903076,
          3.3132379055023193,
          4.223660945892334,
          3.3986194133758545,
          4.182245254516602,
          5.087286472320557,
          7.00044584274292,
          6.139400959014893,
          5.481202602386475,
          6.596934795379639,
          2.6430227756500244,
          5.441330909729004,
          5.335479259490967,
          6.054102420806885,
          6.066746711730957,
          6.211134910583496,
          5.980558395385742,
          7.2573161125183105,
          6.531866073608398,
          5.803629398345947,
          7.5138630867004395,
          6.915326118469238,
          5.454422473907471,
          4.182834148406982,
          4.879796028137207,
          7.049556732177734,
          3.598234176635742
         ],
         "yaxis": "y"
        },
        {
         "hovertemplate": "color=Adenocarcinoma<br>x=%{x}<br>y=%{y}<extra></extra>",
         "legendgroup": "Adenocarcinoma",
         "marker": {
          "color": "#EF553B",
          "symbol": "circle"
         },
         "mode": "markers",
         "name": "Adenocarcinoma",
         "orientation": "v",
         "showlegend": true,
         "type": "scatter",
         "x": [
          -0.9274733662605286,
          2.8456790447235107,
          -0.4916711449623108,
          1.4849101305007935,
          2.018465280532837,
          0.5533483028411865,
          -0.5861331820487976,
          -0.0844021886587143,
          -1.6294658184051514,
          1.6213669776916504,
          0.38101229071617126,
          1.160991907119751,
          0.6941891312599182,
          -0.18169113993644714,
          0.440230131149292,
          1.632637619972229,
          0.040098708122968674,
          1.2417460680007935,
          1.3048614263534546,
          1.1497381925582886,
          2.112283945083618,
          1.1467245817184448,
          -1.8043208122253418,
          0.5423831939697266,
          -1.751327633857727,
          -1.2802220582962036,
          -2.0932457447052,
          -2.920947790145874,
          1.0077747106552124,
          1.2468148469924927,
          -1.21006441116333,
          2.2688143253326416,
          1.8299438953399658,
          -2.409597635269165,
          2.749617338180542,
          2.7363247871398926,
          2.3672118186950684,
          -2.757030487060547,
          1.9722346067428589,
          2.8308372497558594,
          0.5552019476890564,
          0.7663241028785706
         ],
         "xaxis": "x",
         "y": [
          1.621678113937378,
          2.0022997856140137,
          3.4656944274902344,
          4.53726863861084,
          1.535080909729004,
          1.1474754810333252,
          3.189673900604248,
          2.9943740367889404,
          3.6279070377349854,
          4.211147308349609,
          2.235048294067383,
          4.20665168762207,
          4.201834678649902,
          2.237093210220337,
          2.308051347732544,
          2.3360798358917236,
          3.141561985015869,
          3.3138835430145264,
          3.5474562644958496,
          3.856950283050537,
          1.7362219095230103,
          3.5952906608581543,
          3.6275928020477295,
          3.3009190559387207,
          2.7697737216949463,
          4.017665386199951,
          3.664532423019409,
          4.27949857711792,
          1.7501280307769775,
          3.249783515930176,
          3.752920627593994,
          4.110147953033447,
          1.3028080463409424,
          4.968820571899414,
          3.863393545150757,
          1.9449058771133423,
          3.6519222259521484,
          3.283527135848999,
          2.7134573459625244,
          2.6991443634033203,
          2.3962247371673584,
          3.1627743244171143
         ],
         "yaxis": "y"
        },
        {
         "hovertemplate": "color=Others<br>x=%{x}<br>y=%{y}<extra></extra>",
         "legendgroup": "Others",
         "marker": {
          "color": "#00cc96",
          "symbol": "circle"
         },
         "mode": "markers",
         "name": "Others",
         "orientation": "v",
         "showlegend": true,
         "type": "scatter",
         "x": [
          0.459926038980484,
          1.273186206817627,
          -1.0424431562423706,
          -1.3933136463165283,
          -2.411078691482544,
          -1.0580017566680908,
          -0.5490790605545044,
          -1.3550199270248413,
          -2.2471683025360107,
          0.7861078381538391,
          2.7745981216430664
         ],
         "xaxis": "x",
         "y": [
          7.950766563415527,
          4.370224475860596,
          2.6606523990631104,
          3.311728000640869,
          2.252793312072754,
          6.352880954742432,
          6.711181640625,
          5.567275524139404,
          4.503347873687744,
          4.742295742034912,
          5.0602898597717285
         ],
         "yaxis": "y"
        }
       ],
       "layout": {
        "legend": {
         "title": {
          "text": "color"
         },
         "tracegroupgap": 0
        },
        "template": {
         "data": {
          "bar": [
           {
            "error_x": {
             "color": "#2a3f5f"
            },
            "error_y": {
             "color": "#2a3f5f"
            },
            "marker": {
             "line": {
              "color": "#E5ECF6",
              "width": 0.5
             },
             "pattern": {
              "fillmode": "overlay",
              "size": 10,
              "solidity": 0.2
             }
            },
            "type": "bar"
           }
          ],
          "barpolar": [
           {
            "marker": {
             "line": {
              "color": "#E5ECF6",
              "width": 0.5
             },
             "pattern": {
              "fillmode": "overlay",
              "size": 10,
              "solidity": 0.2
             }
            },
            "type": "barpolar"
           }
          ],
          "carpet": [
           {
            "aaxis": {
             "endlinecolor": "#2a3f5f",
             "gridcolor": "white",
             "linecolor": "white",
             "minorgridcolor": "white",
             "startlinecolor": "#2a3f5f"
            },
            "baxis": {
             "endlinecolor": "#2a3f5f",
             "gridcolor": "white",
             "linecolor": "white",
             "minorgridcolor": "white",
             "startlinecolor": "#2a3f5f"
            },
            "type": "carpet"
           }
          ],
          "choropleth": [
           {
            "colorbar": {
             "outlinewidth": 0,
             "ticks": ""
            },
            "type": "choropleth"
           }
          ],
          "contour": [
           {
            "colorbar": {
             "outlinewidth": 0,
             "ticks": ""
            },
            "colorscale": [
             [
              0,
              "#0d0887"
             ],
             [
              0.1111111111111111,
              "#46039f"
             ],
             [
              0.2222222222222222,
              "#7201a8"
             ],
             [
              0.3333333333333333,
              "#9c179e"
             ],
             [
              0.4444444444444444,
              "#bd3786"
             ],
             [
              0.5555555555555556,
              "#d8576b"
             ],
             [
              0.6666666666666666,
              "#ed7953"
             ],
             [
              0.7777777777777778,
              "#fb9f3a"
             ],
             [
              0.8888888888888888,
              "#fdca26"
             ],
             [
              1,
              "#f0f921"
             ]
            ],
            "type": "contour"
           }
          ],
          "contourcarpet": [
           {
            "colorbar": {
             "outlinewidth": 0,
             "ticks": ""
            },
            "type": "contourcarpet"
           }
          ],
          "heatmap": [
           {
            "colorbar": {
             "outlinewidth": 0,
             "ticks": ""
            },
            "colorscale": [
             [
              0,
              "#0d0887"
             ],
             [
              0.1111111111111111,
              "#46039f"
             ],
             [
              0.2222222222222222,
              "#7201a8"
             ],
             [
              0.3333333333333333,
              "#9c179e"
             ],
             [
              0.4444444444444444,
              "#bd3786"
             ],
             [
              0.5555555555555556,
              "#d8576b"
             ],
             [
              0.6666666666666666,
              "#ed7953"
             ],
             [
              0.7777777777777778,
              "#fb9f3a"
             ],
             [
              0.8888888888888888,
              "#fdca26"
             ],
             [
              1,
              "#f0f921"
             ]
            ],
            "type": "heatmap"
           }
          ],
          "heatmapgl": [
           {
            "colorbar": {
             "outlinewidth": 0,
             "ticks": ""
            },
            "colorscale": [
             [
              0,
              "#0d0887"
             ],
             [
              0.1111111111111111,
              "#46039f"
             ],
             [
              0.2222222222222222,
              "#7201a8"
             ],
             [
              0.3333333333333333,
              "#9c179e"
             ],
             [
              0.4444444444444444,
              "#bd3786"
             ],
             [
              0.5555555555555556,
              "#d8576b"
             ],
             [
              0.6666666666666666,
              "#ed7953"
             ],
             [
              0.7777777777777778,
              "#fb9f3a"
             ],
             [
              0.8888888888888888,
              "#fdca26"
             ],
             [
              1,
              "#f0f921"
             ]
            ],
            "type": "heatmapgl"
           }
          ],
          "histogram": [
           {
            "marker": {
             "pattern": {
              "fillmode": "overlay",
              "size": 10,
              "solidity": 0.2
             }
            },
            "type": "histogram"
           }
          ],
          "histogram2d": [
           {
            "colorbar": {
             "outlinewidth": 0,
             "ticks": ""
            },
            "colorscale": [
             [
              0,
              "#0d0887"
             ],
             [
              0.1111111111111111,
              "#46039f"
             ],
             [
              0.2222222222222222,
              "#7201a8"
             ],
             [
              0.3333333333333333,
              "#9c179e"
             ],
             [
              0.4444444444444444,
              "#bd3786"
             ],
             [
              0.5555555555555556,
              "#d8576b"
             ],
             [
              0.6666666666666666,
              "#ed7953"
             ],
             [
              0.7777777777777778,
              "#fb9f3a"
             ],
             [
              0.8888888888888888,
              "#fdca26"
             ],
             [
              1,
              "#f0f921"
             ]
            ],
            "type": "histogram2d"
           }
          ],
          "histogram2dcontour": [
           {
            "colorbar": {
             "outlinewidth": 0,
             "ticks": ""
            },
            "colorscale": [
             [
              0,
              "#0d0887"
             ],
             [
              0.1111111111111111,
              "#46039f"
             ],
             [
              0.2222222222222222,
              "#7201a8"
             ],
             [
              0.3333333333333333,
              "#9c179e"
             ],
             [
              0.4444444444444444,
              "#bd3786"
             ],
             [
              0.5555555555555556,
              "#d8576b"
             ],
             [
              0.6666666666666666,
              "#ed7953"
             ],
             [
              0.7777777777777778,
              "#fb9f3a"
             ],
             [
              0.8888888888888888,
              "#fdca26"
             ],
             [
              1,
              "#f0f921"
             ]
            ],
            "type": "histogram2dcontour"
           }
          ],
          "mesh3d": [
           {
            "colorbar": {
             "outlinewidth": 0,
             "ticks": ""
            },
            "type": "mesh3d"
           }
          ],
          "parcoords": [
           {
            "line": {
             "colorbar": {
              "outlinewidth": 0,
              "ticks": ""
             }
            },
            "type": "parcoords"
           }
          ],
          "pie": [
           {
            "automargin": true,
            "type": "pie"
           }
          ],
          "scatter": [
           {
            "marker": {
             "colorbar": {
              "outlinewidth": 0,
              "ticks": ""
             }
            },
            "type": "scatter"
           }
          ],
          "scatter3d": [
           {
            "line": {
             "colorbar": {
              "outlinewidth": 0,
              "ticks": ""
             }
            },
            "marker": {
             "colorbar": {
              "outlinewidth": 0,
              "ticks": ""
             }
            },
            "type": "scatter3d"
           }
          ],
          "scattercarpet": [
           {
            "marker": {
             "colorbar": {
              "outlinewidth": 0,
              "ticks": ""
             }
            },
            "type": "scattercarpet"
           }
          ],
          "scattergeo": [
           {
            "marker": {
             "colorbar": {
              "outlinewidth": 0,
              "ticks": ""
             }
            },
            "type": "scattergeo"
           }
          ],
          "scattergl": [
           {
            "marker": {
             "colorbar": {
              "outlinewidth": 0,
              "ticks": ""
             }
            },
            "type": "scattergl"
           }
          ],
          "scattermapbox": [
           {
            "marker": {
             "colorbar": {
              "outlinewidth": 0,
              "ticks": ""
             }
            },
            "type": "scattermapbox"
           }
          ],
          "scatterpolar": [
           {
            "marker": {
             "colorbar": {
              "outlinewidth": 0,
              "ticks": ""
             }
            },
            "type": "scatterpolar"
           }
          ],
          "scatterpolargl": [
           {
            "marker": {
             "colorbar": {
              "outlinewidth": 0,
              "ticks": ""
             }
            },
            "type": "scatterpolargl"
           }
          ],
          "scatterternary": [
           {
            "marker": {
             "colorbar": {
              "outlinewidth": 0,
              "ticks": ""
             }
            },
            "type": "scatterternary"
           }
          ],
          "surface": [
           {
            "colorbar": {
             "outlinewidth": 0,
             "ticks": ""
            },
            "colorscale": [
             [
              0,
              "#0d0887"
             ],
             [
              0.1111111111111111,
              "#46039f"
             ],
             [
              0.2222222222222222,
              "#7201a8"
             ],
             [
              0.3333333333333333,
              "#9c179e"
             ],
             [
              0.4444444444444444,
              "#bd3786"
             ],
             [
              0.5555555555555556,
              "#d8576b"
             ],
             [
              0.6666666666666666,
              "#ed7953"
             ],
             [
              0.7777777777777778,
              "#fb9f3a"
             ],
             [
              0.8888888888888888,
              "#fdca26"
             ],
             [
              1,
              "#f0f921"
             ]
            ],
            "type": "surface"
           }
          ],
          "table": [
           {
            "cells": {
             "fill": {
              "color": "#EBF0F8"
             },
             "line": {
              "color": "white"
             }
            },
            "header": {
             "fill": {
              "color": "#C8D4E3"
             },
             "line": {
              "color": "white"
             }
            },
            "type": "table"
           }
          ]
         },
         "layout": {
          "annotationdefaults": {
           "arrowcolor": "#2a3f5f",
           "arrowhead": 0,
           "arrowwidth": 1
          },
          "autotypenumbers": "strict",
          "coloraxis": {
           "colorbar": {
            "outlinewidth": 0,
            "ticks": ""
           }
          },
          "colorscale": {
           "diverging": [
            [
             0,
             "#8e0152"
            ],
            [
             0.1,
             "#c51b7d"
            ],
            [
             0.2,
             "#de77ae"
            ],
            [
             0.3,
             "#f1b6da"
            ],
            [
             0.4,
             "#fde0ef"
            ],
            [
             0.5,
             "#f7f7f7"
            ],
            [
             0.6,
             "#e6f5d0"
            ],
            [
             0.7,
             "#b8e186"
            ],
            [
             0.8,
             "#7fbc41"
            ],
            [
             0.9,
             "#4d9221"
            ],
            [
             1,
             "#276419"
            ]
           ],
           "sequential": [
            [
             0,
             "#0d0887"
            ],
            [
             0.1111111111111111,
             "#46039f"
            ],
            [
             0.2222222222222222,
             "#7201a8"
            ],
            [
             0.3333333333333333,
             "#9c179e"
            ],
            [
             0.4444444444444444,
             "#bd3786"
            ],
            [
             0.5555555555555556,
             "#d8576b"
            ],
            [
             0.6666666666666666,
             "#ed7953"
            ],
            [
             0.7777777777777778,
             "#fb9f3a"
            ],
            [
             0.8888888888888888,
             "#fdca26"
            ],
            [
             1,
             "#f0f921"
            ]
           ],
           "sequentialminus": [
            [
             0,
             "#0d0887"
            ],
            [
             0.1111111111111111,
             "#46039f"
            ],
            [
             0.2222222222222222,
             "#7201a8"
            ],
            [
             0.3333333333333333,
             "#9c179e"
            ],
            [
             0.4444444444444444,
             "#bd3786"
            ],
            [
             0.5555555555555556,
             "#d8576b"
            ],
            [
             0.6666666666666666,
             "#ed7953"
            ],
            [
             0.7777777777777778,
             "#fb9f3a"
            ],
            [
             0.8888888888888888,
             "#fdca26"
            ],
            [
             1,
             "#f0f921"
            ]
           ]
          },
          "colorway": [
           "#636efa",
           "#EF553B",
           "#00cc96",
           "#ab63fa",
           "#FFA15A",
           "#19d3f3",
           "#FF6692",
           "#B6E880",
           "#FF97FF",
           "#FECB52"
          ],
          "font": {
           "color": "#2a3f5f"
          },
          "geo": {
           "bgcolor": "white",
           "lakecolor": "white",
           "landcolor": "#E5ECF6",
           "showlakes": true,
           "showland": true,
           "subunitcolor": "white"
          },
          "hoverlabel": {
           "align": "left"
          },
          "hovermode": "closest",
          "mapbox": {
           "style": "light"
          },
          "paper_bgcolor": "white",
          "plot_bgcolor": "#E5ECF6",
          "polar": {
           "angularaxis": {
            "gridcolor": "white",
            "linecolor": "white",
            "ticks": ""
           },
           "bgcolor": "#E5ECF6",
           "radialaxis": {
            "gridcolor": "white",
            "linecolor": "white",
            "ticks": ""
           }
          },
          "scene": {
           "xaxis": {
            "backgroundcolor": "#E5ECF6",
            "gridcolor": "white",
            "gridwidth": 2,
            "linecolor": "white",
            "showbackground": true,
            "ticks": "",
            "zerolinecolor": "white"
           },
           "yaxis": {
            "backgroundcolor": "#E5ECF6",
            "gridcolor": "white",
            "gridwidth": 2,
            "linecolor": "white",
            "showbackground": true,
            "ticks": "",
            "zerolinecolor": "white"
           },
           "zaxis": {
            "backgroundcolor": "#E5ECF6",
            "gridcolor": "white",
            "gridwidth": 2,
            "linecolor": "white",
            "showbackground": true,
            "ticks": "",
            "zerolinecolor": "white"
           }
          },
          "shapedefaults": {
           "line": {
            "color": "#2a3f5f"
           }
          },
          "ternary": {
           "aaxis": {
            "gridcolor": "white",
            "linecolor": "white",
            "ticks": ""
           },
           "baxis": {
            "gridcolor": "white",
            "linecolor": "white",
            "ticks": ""
           },
           "bgcolor": "#E5ECF6",
           "caxis": {
            "gridcolor": "white",
            "linecolor": "white",
            "ticks": ""
           }
          },
          "title": {
           "x": 0.05
          },
          "xaxis": {
           "automargin": true,
           "gridcolor": "white",
           "linecolor": "white",
           "ticks": "",
           "title": {
            "standoff": 15
           },
           "zerolinecolor": "white",
           "zerolinewidth": 2
          },
          "yaxis": {
           "automargin": true,
           "gridcolor": "white",
           "linecolor": "white",
           "ticks": "",
           "title": {
            "standoff": 15
           },
           "zerolinecolor": "white",
           "zerolinewidth": 2
          }
         }
        },
        "title": {
         "text": "tSNE on raw dataset"
        },
        "xaxis": {
         "anchor": "y",
         "domain": [
          0,
          1
         ],
         "title": {
          "text": "x"
         }
        },
        "yaxis": {
         "anchor": "x",
         "domain": [
          0,
          1
         ],
         "title": {
          "text": "y"
         }
        }
       }
      },
      "text/html": [
       "<div>                            <div id=\"39d61957-6082-4cd1-b0bb-141bac94d3a6\" class=\"plotly-graph-div\" style=\"height:525px; width:100%;\"></div>            <script type=\"text/javascript\">                require([\"plotly\"], function(Plotly) {                    window.PLOTLYENV=window.PLOTLYENV || {};                                    if (document.getElementById(\"39d61957-6082-4cd1-b0bb-141bac94d3a6\")) {                    Plotly.newPlot(                        \"39d61957-6082-4cd1-b0bb-141bac94d3a6\",                        [{\"hovertemplate\":\"color=Squamous<br>x=%{x}<br>y=%{y}<extra></extra>\",\"legendgroup\":\"Squamous\",\"marker\":{\"color\":\"#636efa\",\"symbol\":\"circle\"},\"mode\":\"markers\",\"name\":\"Squamous\",\"orientation\":\"v\",\"showlegend\":true,\"x\":[1.6688668727874756,-0.012783949263393879,-1.3265074491500854,-1.871637225151062,0.6851441264152527,0.019843503832817078,0.011989385820925236,0.4178107678890228,0.24879606068134308,0.7683199644088745,0.043870266526937485,-1.6769920587539673,1.5263805389404297,0.16210441291332245,-0.5967422127723694,-0.33274540305137634,-0.6742801666259766,-0.1426495462656021,0.9856594800949097,2.0344464778900146,0.9633358716964722,-0.9729771614074707,1.2238256931304932,-0.1785450279712677,-0.10206914693117142,1.3153554201126099,1.1301807165145874,0.3087414503097534,1.1332288980484009,-0.21160888671875,0.20975945889949799,1.7878283262252808,0.03227933496236801,-0.08683335036039352,1.7468810081481934,-0.22963692247867584],\"xaxis\":\"x\",\"y\":[6.575912952423096,5.250889301300049,7.236468315124512,1.6651835441589355,7.0857954025268555,5.896124839782715,3.6814889907836914,5.527002811431885,5.762609958648682,5.811885356903076,3.3132379055023193,4.223660945892334,3.3986194133758545,4.182245254516602,5.087286472320557,7.00044584274292,6.139400959014893,5.481202602386475,6.596934795379639,2.6430227756500244,5.441330909729004,5.335479259490967,6.054102420806885,6.066746711730957,6.211134910583496,5.980558395385742,7.2573161125183105,6.531866073608398,5.803629398345947,7.5138630867004395,6.915326118469238,5.454422473907471,4.182834148406982,4.879796028137207,7.049556732177734,3.598234176635742],\"yaxis\":\"y\",\"type\":\"scatter\"},{\"hovertemplate\":\"color=Adenocarcinoma<br>x=%{x}<br>y=%{y}<extra></extra>\",\"legendgroup\":\"Adenocarcinoma\",\"marker\":{\"color\":\"#EF553B\",\"symbol\":\"circle\"},\"mode\":\"markers\",\"name\":\"Adenocarcinoma\",\"orientation\":\"v\",\"showlegend\":true,\"x\":[-0.9274733662605286,2.8456790447235107,-0.4916711449623108,1.4849101305007935,2.018465280532837,0.5533483028411865,-0.5861331820487976,-0.0844021886587143,-1.6294658184051514,1.6213669776916504,0.38101229071617126,1.160991907119751,0.6941891312599182,-0.18169113993644714,0.440230131149292,1.632637619972229,0.040098708122968674,1.2417460680007935,1.3048614263534546,1.1497381925582886,2.112283945083618,1.1467245817184448,-1.8043208122253418,0.5423831939697266,-1.751327633857727,-1.2802220582962036,-2.0932457447052,-2.920947790145874,1.0077747106552124,1.2468148469924927,-1.21006441116333,2.2688143253326416,1.8299438953399658,-2.409597635269165,2.749617338180542,2.7363247871398926,2.3672118186950684,-2.757030487060547,1.9722346067428589,2.8308372497558594,0.5552019476890564,0.7663241028785706],\"xaxis\":\"x\",\"y\":[1.621678113937378,2.0022997856140137,3.4656944274902344,4.53726863861084,1.535080909729004,1.1474754810333252,3.189673900604248,2.9943740367889404,3.6279070377349854,4.211147308349609,2.235048294067383,4.20665168762207,4.201834678649902,2.237093210220337,2.308051347732544,2.3360798358917236,3.141561985015869,3.3138835430145264,3.5474562644958496,3.856950283050537,1.7362219095230103,3.5952906608581543,3.6275928020477295,3.3009190559387207,2.7697737216949463,4.017665386199951,3.664532423019409,4.27949857711792,1.7501280307769775,3.249783515930176,3.752920627593994,4.110147953033447,1.3028080463409424,4.968820571899414,3.863393545150757,1.9449058771133423,3.6519222259521484,3.283527135848999,2.7134573459625244,2.6991443634033203,2.3962247371673584,3.1627743244171143],\"yaxis\":\"y\",\"type\":\"scatter\"},{\"hovertemplate\":\"color=Others<br>x=%{x}<br>y=%{y}<extra></extra>\",\"legendgroup\":\"Others\",\"marker\":{\"color\":\"#00cc96\",\"symbol\":\"circle\"},\"mode\":\"markers\",\"name\":\"Others\",\"orientation\":\"v\",\"showlegend\":true,\"x\":[0.459926038980484,1.273186206817627,-1.0424431562423706,-1.3933136463165283,-2.411078691482544,-1.0580017566680908,-0.5490790605545044,-1.3550199270248413,-2.2471683025360107,0.7861078381538391,2.7745981216430664],\"xaxis\":\"x\",\"y\":[7.950766563415527,4.370224475860596,2.6606523990631104,3.311728000640869,2.252793312072754,6.352880954742432,6.711181640625,5.567275524139404,4.503347873687744,4.742295742034912,5.0602898597717285],\"yaxis\":\"y\",\"type\":\"scatter\"}],                        {\"template\":{\"data\":{\"bar\":[{\"error_x\":{\"color\":\"#2a3f5f\"},\"error_y\":{\"color\":\"#2a3f5f\"},\"marker\":{\"line\":{\"color\":\"#E5ECF6\",\"width\":0.5},\"pattern\":{\"fillmode\":\"overlay\",\"size\":10,\"solidity\":0.2}},\"type\":\"bar\"}],\"barpolar\":[{\"marker\":{\"line\":{\"color\":\"#E5ECF6\",\"width\":0.5},\"pattern\":{\"fillmode\":\"overlay\",\"size\":10,\"solidity\":0.2}},\"type\":\"barpolar\"}],\"carpet\":[{\"aaxis\":{\"endlinecolor\":\"#2a3f5f\",\"gridcolor\":\"white\",\"linecolor\":\"white\",\"minorgridcolor\":\"white\",\"startlinecolor\":\"#2a3f5f\"},\"baxis\":{\"endlinecolor\":\"#2a3f5f\",\"gridcolor\":\"white\",\"linecolor\":\"white\",\"minorgridcolor\":\"white\",\"startlinecolor\":\"#2a3f5f\"},\"type\":\"carpet\"}],\"choropleth\":[{\"colorbar\":{\"outlinewidth\":0,\"ticks\":\"\"},\"type\":\"choropleth\"}],\"contour\":[{\"colorbar\":{\"outlinewidth\":0,\"ticks\":\"\"},\"colorscale\":[[0.0,\"#0d0887\"],[0.1111111111111111,\"#46039f\"],[0.2222222222222222,\"#7201a8\"],[0.3333333333333333,\"#9c179e\"],[0.4444444444444444,\"#bd3786\"],[0.5555555555555556,\"#d8576b\"],[0.6666666666666666,\"#ed7953\"],[0.7777777777777778,\"#fb9f3a\"],[0.8888888888888888,\"#fdca26\"],[1.0,\"#f0f921\"]],\"type\":\"contour\"}],\"contourcarpet\":[{\"colorbar\":{\"outlinewidth\":0,\"ticks\":\"\"},\"type\":\"contourcarpet\"}],\"heatmap\":[{\"colorbar\":{\"outlinewidth\":0,\"ticks\":\"\"},\"colorscale\":[[0.0,\"#0d0887\"],[0.1111111111111111,\"#46039f\"],[0.2222222222222222,\"#7201a8\"],[0.3333333333333333,\"#9c179e\"],[0.4444444444444444,\"#bd3786\"],[0.5555555555555556,\"#d8576b\"],[0.6666666666666666,\"#ed7953\"],[0.7777777777777778,\"#fb9f3a\"],[0.8888888888888888,\"#fdca26\"],[1.0,\"#f0f921\"]],\"type\":\"heatmap\"}],\"heatmapgl\":[{\"colorbar\":{\"outlinewidth\":0,\"ticks\":\"\"},\"colorscale\":[[0.0,\"#0d0887\"],[0.1111111111111111,\"#46039f\"],[0.2222222222222222,\"#7201a8\"],[0.3333333333333333,\"#9c179e\"],[0.4444444444444444,\"#bd3786\"],[0.5555555555555556,\"#d8576b\"],[0.6666666666666666,\"#ed7953\"],[0.7777777777777778,\"#fb9f3a\"],[0.8888888888888888,\"#fdca26\"],[1.0,\"#f0f921\"]],\"type\":\"heatmapgl\"}],\"histogram\":[{\"marker\":{\"pattern\":{\"fillmode\":\"overlay\",\"size\":10,\"solidity\":0.2}},\"type\":\"histogram\"}],\"histogram2d\":[{\"colorbar\":{\"outlinewidth\":0,\"ticks\":\"\"},\"colorscale\":[[0.0,\"#0d0887\"],[0.1111111111111111,\"#46039f\"],[0.2222222222222222,\"#7201a8\"],[0.3333333333333333,\"#9c179e\"],[0.4444444444444444,\"#bd3786\"],[0.5555555555555556,\"#d8576b\"],[0.6666666666666666,\"#ed7953\"],[0.7777777777777778,\"#fb9f3a\"],[0.8888888888888888,\"#fdca26\"],[1.0,\"#f0f921\"]],\"type\":\"histogram2d\"}],\"histogram2dcontour\":[{\"colorbar\":{\"outlinewidth\":0,\"ticks\":\"\"},\"colorscale\":[[0.0,\"#0d0887\"],[0.1111111111111111,\"#46039f\"],[0.2222222222222222,\"#7201a8\"],[0.3333333333333333,\"#9c179e\"],[0.4444444444444444,\"#bd3786\"],[0.5555555555555556,\"#d8576b\"],[0.6666666666666666,\"#ed7953\"],[0.7777777777777778,\"#fb9f3a\"],[0.8888888888888888,\"#fdca26\"],[1.0,\"#f0f921\"]],\"type\":\"histogram2dcontour\"}],\"mesh3d\":[{\"colorbar\":{\"outlinewidth\":0,\"ticks\":\"\"},\"type\":\"mesh3d\"}],\"parcoords\":[{\"line\":{\"colorbar\":{\"outlinewidth\":0,\"ticks\":\"\"}},\"type\":\"parcoords\"}],\"pie\":[{\"automargin\":true,\"type\":\"pie\"}],\"scatter\":[{\"marker\":{\"colorbar\":{\"outlinewidth\":0,\"ticks\":\"\"}},\"type\":\"scatter\"}],\"scatter3d\":[{\"line\":{\"colorbar\":{\"outlinewidth\":0,\"ticks\":\"\"}},\"marker\":{\"colorbar\":{\"outlinewidth\":0,\"ticks\":\"\"}},\"type\":\"scatter3d\"}],\"scattercarpet\":[{\"marker\":{\"colorbar\":{\"outlinewidth\":0,\"ticks\":\"\"}},\"type\":\"scattercarpet\"}],\"scattergeo\":[{\"marker\":{\"colorbar\":{\"outlinewidth\":0,\"ticks\":\"\"}},\"type\":\"scattergeo\"}],\"scattergl\":[{\"marker\":{\"colorbar\":{\"outlinewidth\":0,\"ticks\":\"\"}},\"type\":\"scattergl\"}],\"scattermapbox\":[{\"marker\":{\"colorbar\":{\"outlinewidth\":0,\"ticks\":\"\"}},\"type\":\"scattermapbox\"}],\"scatterpolar\":[{\"marker\":{\"colorbar\":{\"outlinewidth\":0,\"ticks\":\"\"}},\"type\":\"scatterpolar\"}],\"scatterpolargl\":[{\"marker\":{\"colorbar\":{\"outlinewidth\":0,\"ticks\":\"\"}},\"type\":\"scatterpolargl\"}],\"scatterternary\":[{\"marker\":{\"colorbar\":{\"outlinewidth\":0,\"ticks\":\"\"}},\"type\":\"scatterternary\"}],\"surface\":[{\"colorbar\":{\"outlinewidth\":0,\"ticks\":\"\"},\"colorscale\":[[0.0,\"#0d0887\"],[0.1111111111111111,\"#46039f\"],[0.2222222222222222,\"#7201a8\"],[0.3333333333333333,\"#9c179e\"],[0.4444444444444444,\"#bd3786\"],[0.5555555555555556,\"#d8576b\"],[0.6666666666666666,\"#ed7953\"],[0.7777777777777778,\"#fb9f3a\"],[0.8888888888888888,\"#fdca26\"],[1.0,\"#f0f921\"]],\"type\":\"surface\"}],\"table\":[{\"cells\":{\"fill\":{\"color\":\"#EBF0F8\"},\"line\":{\"color\":\"white\"}},\"header\":{\"fill\":{\"color\":\"#C8D4E3\"},\"line\":{\"color\":\"white\"}},\"type\":\"table\"}]},\"layout\":{\"annotationdefaults\":{\"arrowcolor\":\"#2a3f5f\",\"arrowhead\":0,\"arrowwidth\":1},\"autotypenumbers\":\"strict\",\"coloraxis\":{\"colorbar\":{\"outlinewidth\":0,\"ticks\":\"\"}},\"colorscale\":{\"diverging\":[[0,\"#8e0152\"],[0.1,\"#c51b7d\"],[0.2,\"#de77ae\"],[0.3,\"#f1b6da\"],[0.4,\"#fde0ef\"],[0.5,\"#f7f7f7\"],[0.6,\"#e6f5d0\"],[0.7,\"#b8e186\"],[0.8,\"#7fbc41\"],[0.9,\"#4d9221\"],[1,\"#276419\"]],\"sequential\":[[0.0,\"#0d0887\"],[0.1111111111111111,\"#46039f\"],[0.2222222222222222,\"#7201a8\"],[0.3333333333333333,\"#9c179e\"],[0.4444444444444444,\"#bd3786\"],[0.5555555555555556,\"#d8576b\"],[0.6666666666666666,\"#ed7953\"],[0.7777777777777778,\"#fb9f3a\"],[0.8888888888888888,\"#fdca26\"],[1.0,\"#f0f921\"]],\"sequentialminus\":[[0.0,\"#0d0887\"],[0.1111111111111111,\"#46039f\"],[0.2222222222222222,\"#7201a8\"],[0.3333333333333333,\"#9c179e\"],[0.4444444444444444,\"#bd3786\"],[0.5555555555555556,\"#d8576b\"],[0.6666666666666666,\"#ed7953\"],[0.7777777777777778,\"#fb9f3a\"],[0.8888888888888888,\"#fdca26\"],[1.0,\"#f0f921\"]]},\"colorway\":[\"#636efa\",\"#EF553B\",\"#00cc96\",\"#ab63fa\",\"#FFA15A\",\"#19d3f3\",\"#FF6692\",\"#B6E880\",\"#FF97FF\",\"#FECB52\"],\"font\":{\"color\":\"#2a3f5f\"},\"geo\":{\"bgcolor\":\"white\",\"lakecolor\":\"white\",\"landcolor\":\"#E5ECF6\",\"showlakes\":true,\"showland\":true,\"subunitcolor\":\"white\"},\"hoverlabel\":{\"align\":\"left\"},\"hovermode\":\"closest\",\"mapbox\":{\"style\":\"light\"},\"paper_bgcolor\":\"white\",\"plot_bgcolor\":\"#E5ECF6\",\"polar\":{\"angularaxis\":{\"gridcolor\":\"white\",\"linecolor\":\"white\",\"ticks\":\"\"},\"bgcolor\":\"#E5ECF6\",\"radialaxis\":{\"gridcolor\":\"white\",\"linecolor\":\"white\",\"ticks\":\"\"}},\"scene\":{\"xaxis\":{\"backgroundcolor\":\"#E5ECF6\",\"gridcolor\":\"white\",\"gridwidth\":2,\"linecolor\":\"white\",\"showbackground\":true,\"ticks\":\"\",\"zerolinecolor\":\"white\"},\"yaxis\":{\"backgroundcolor\":\"#E5ECF6\",\"gridcolor\":\"white\",\"gridwidth\":2,\"linecolor\":\"white\",\"showbackground\":true,\"ticks\":\"\",\"zerolinecolor\":\"white\"},\"zaxis\":{\"backgroundcolor\":\"#E5ECF6\",\"gridcolor\":\"white\",\"gridwidth\":2,\"linecolor\":\"white\",\"showbackground\":true,\"ticks\":\"\",\"zerolinecolor\":\"white\"}},\"shapedefaults\":{\"line\":{\"color\":\"#2a3f5f\"}},\"ternary\":{\"aaxis\":{\"gridcolor\":\"white\",\"linecolor\":\"white\",\"ticks\":\"\"},\"baxis\":{\"gridcolor\":\"white\",\"linecolor\":\"white\",\"ticks\":\"\"},\"bgcolor\":\"#E5ECF6\",\"caxis\":{\"gridcolor\":\"white\",\"linecolor\":\"white\",\"ticks\":\"\"}},\"title\":{\"x\":0.05},\"xaxis\":{\"automargin\":true,\"gridcolor\":\"white\",\"linecolor\":\"white\",\"ticks\":\"\",\"title\":{\"standoff\":15},\"zerolinecolor\":\"white\",\"zerolinewidth\":2},\"yaxis\":{\"automargin\":true,\"gridcolor\":\"white\",\"linecolor\":\"white\",\"ticks\":\"\",\"title\":{\"standoff\":15},\"zerolinecolor\":\"white\",\"zerolinewidth\":2}}},\"xaxis\":{\"anchor\":\"y\",\"domain\":[0.0,1.0],\"title\":{\"text\":\"x\"}},\"yaxis\":{\"anchor\":\"x\",\"domain\":[0.0,1.0],\"title\":{\"text\":\"y\"}},\"legend\":{\"title\":{\"text\":\"color\"},\"tracegroupgap\":0},\"title\":{\"text\":\"tSNE on raw dataset\"}},                        {\"responsive\": true}                    ).then(function(){\n",
       "                            \n",
       "var gd = document.getElementById('39d61957-6082-4cd1-b0bb-141bac94d3a6');\n",
       "var x = new MutationObserver(function (mutations, observer) {{\n",
       "        var display = window.getComputedStyle(gd).display;\n",
       "        if (!display || display === 'none') {{\n",
       "            console.log([gd, 'removed!']);\n",
       "            Plotly.purge(gd);\n",
       "            observer.disconnect();\n",
       "        }}\n",
       "}});\n",
       "\n",
       "// Listen for the removal of the full notebook cells\n",
       "var notebookContainer = gd.closest('#notebook-container');\n",
       "if (notebookContainer) {{\n",
       "    x.observe(notebookContainer, {childList: true});\n",
       "}}\n",
       "\n",
       "// Listen for the clearing of the current output cell\n",
       "var outputEl = gd.closest('.output');\n",
       "if (outputEl) {{\n",
       "    x.observe(outputEl, {childList: true});\n",
       "}}\n",
       "\n",
       "                        })                };                });            </script>        </div>"
      ]
     },
     "metadata": {},
     "output_type": "display_data"
    }
   ],
   "source": [
    "fig1 = px.scatter(Y,x=Y[:,0], y=Y[:,1], color=lungs_df['cancer_type'],title='tSNE on raw dataset')#symbol=lungs_df['Gender'],title='TSNe components')#characteristics.tag.tumor.size.maximumdiameter\n",
    "fig1.show()"
   ]
  },
  {
   "attachments": {
    "newplot%20%284%29.png": {
     "image/png": "[encoded data removed]"
    }
   },
   "cell_type": "markdown",
   "id": "ecef0e0a",
   "metadata": {},
   "source": [
    "![newplot%20%284%29.png](attachment:newplot%20%284%29.png)"
   ]
  },
  {
   "cell_type": "markdown",
   "id": "fa940fe9",
   "metadata": {},
   "source": [
    "There is seperation between Adenocarcinoma and Squamous but the seperation is hindered by 'others' cancer type.Clustering is not good but this is probably due to less samples.\n",
    "\n",
    "\n"
   ]
  },
  {
   "cell_type": "markdown",
   "id": "13d5caa0",
   "metadata": {},
   "source": [
    "Following cell executes tSNE on PCA components."
   ]
  },
  {
   "cell_type": "code",
   "execution_count": 160,
   "id": "49861088",
   "metadata": {},
   "outputs": [],
   "source": [
    "from sklearn.decomposition import KernelPCA\n",
    "pca = KernelPCA(n_components=2,kernel='rbf')\n",
    "pc = pca.fit_transform(X)"
   ]
  },
  {
   "cell_type": "code",
   "execution_count": 161,
   "id": "77df7fe6",
   "metadata": {},
   "outputs": [
    {
     "data": {
      "text/plain": [
       "(89, 2)"
      ]
     },
     "execution_count": 161,
     "metadata": {},
     "output_type": "execute_result"
    }
   ],
   "source": [
    "#initiate instance\n",
    "X_embedded = TSNE(n_components=2, learning_rate='auto', random_state = 42, init='random')\n",
    "#fit \n",
    "X_embedded = X_embedded.fit_transform(pc)\n",
    "\n",
    "X_embedded.shape\n"
   ]
  },
  {
   "cell_type": "markdown",
   "id": "dbd69ef3",
   "metadata": {},
   "source": [
    "Since the cancer types are grouped into three categories number of clusters in kmeans is used as three."
   ]
  },
  {
   "cell_type": "code",
   "execution_count": 162,
   "id": "db322802",
   "metadata": {},
   "outputs": [],
   "source": [
    "from sklearn.cluster import KMeans\n",
    "#Y=X_embedded\n",
    "def compare(Y):\n",
    "    \"\"\"Function to compare K means clustering on tSNE,PCA and raw dataset\n",
    "    Arguments:\n",
    "    Y: Dimensionality reduced data using direct tSNE or tSNE with PCA\n",
    "    \n",
    "    \n",
    "    OuTputs:\n",
    "    Plots comparing k means clustering on actual \"\"\"\n",
    "\n",
    "    kmns = KMeans(n_clusters=3, init='k-means++')\n",
    "    kY = kmns.fit_predict(X)\n",
    "    fig=plt.figure(figsize=(18, 10),)\n",
    "\n",
    "\n",
    "    plt.subplot(221)\n",
    "    plt.scatter(Y[:,0],Y[:,1],  c=kY, cmap = \"jet\", edgecolor = \"None\", alpha=0.35)\n",
    "    plt.title('k-means on X')\n",
    "    plt.axis('off')\n",
    "\n",
    "\n",
    "\n",
    "    # K-means on tSNE results\n",
    "    kmns = KMeans(n_clusters=3, init='k-means++')\n",
    "    kY = kmns.fit_predict(Y)\n",
    "\n",
    "    plt.subplot(222)\n",
    "    plt.scatter(Y[:,0],Y[:,1],  c=kY, cmap = \"jet\", edgecolor = \"None\", alpha=0.5)\n",
    "    plt.title('k-means on tSNE')\n",
    "    plt.axis('off')\n",
    "\n",
    "\n",
    "    # K-means on PC 1 - 2\n",
    "    kmns = KMeans(n_clusters=3, init='k-means++')\n",
    "    kY = kmns.fit_predict(projections.iloc[:,0:2])\n",
    "\n",
    "    plt.subplot(223)\n",
    "    plt.scatter(Y[:,0],Y[:,1],  c=kY, cmap = \"jet\", edgecolor = \"None\", alpha=0.5)\n",
    "    plt.title('k-means on PC1-2')\n",
    "    plt.axis('off')\n",
    "\n",
    "\n",
    "    plt.subplot(224)\n",
    "\n",
    "    sns.scatterplot(Y[:,0],Y[:,1], lungs_df['cancer_type'])\n",
    "    plt.title('Actual clusters')\n",
    "    plt.axis('off')\n",
    "    plt.show()\n"
   ]
  },
  {
   "cell_type": "code",
   "execution_count": 163,
   "id": "b53e558a",
   "metadata": {},
   "outputs": [
    {
     "data": {
      "image/png": "[encoded data removed]",
      "text/plain": [
       "<Figure size 1296x720 with 4 Axes>"
      ]
     },
     "metadata": {
      "needs_background": "light"
     },
     "output_type": "display_data"
    }
   ],
   "source": [
    "#Here Y is dimensionally reduced data using only tSNE\n",
    "compare(Y)"
   ]
  },
  {
   "cell_type": "markdown",
   "id": "5684af36",
   "metadata": {},
   "source": [
    "K means on tSNE shows a good clustering of three cancer types. Kmeans on principal component 1 and principal components shows also some clustering."
   ]
  },
  {
   "cell_type": "code",
   "execution_count": 164,
   "id": "bf00c63c",
   "metadata": {},
   "outputs": [
    {
     "data": {
      "image/png": "[encoded data removed]",
      "text/plain": [
       "<Figure size 1296x720 with 4 Axes>"
      ]
     },
     "metadata": {
      "needs_background": "light"
     },
     "output_type": "display_data"
    }
   ],
   "source": [
    "compare(X_embedded)"
   ]
  },
  {
   "cell_type": "markdown",
   "id": "490dc0c9",
   "metadata": {},
   "source": [
    "Here Kmeans clustering is done on on dimensionally reduced data using PCA and then tSNE.Again Kmeans on tSNE shows improved clustering compared to the above case where no PCA was performed prior to tSNE model building.\n",
    "\n"
   ]
  },
  {
   "cell_type": "markdown",
   "id": "e90fda1d",
   "metadata": {},
   "source": [
    "#  Discussion and Conclusion:\n",
    "The assignment tried to build unspupervised  models to find gene expression data of lung cancer patients.PCA analsyis alone didnt cluster good.This is probably becuase lack of variance diffrence between the features(columns). \n",
    "tSNE is a non linear dimensionality reduction technique that find clusters by preserving small pairwise distances whereas PCA preserves large pairwise distances. tSNE being a non linear technique works best for gene expression data as this data has data points close to each other. This distances are taken into account by tSNE unlike PCA where it try to maximize variance within\n",
    "data. Becuase tSNE performs good in this case, algorithms like DBSCAN can also show good clustering as it find clusters in densed data points .i.e. points which are close to each other.\n",
    "For this assignment an combination of multiple method showed best clustering. .i.e initiallly data is dimensionally reduced using PCA and then data is used for making tSNE model. The output of the tSNE model is then used with K means clustering to get the clusters."
   ]
  }
 ],
 "metadata": {
  "kernelspec": {
   "display_name": "Python 3 (ipykernel)",
   "language": "python",
   "name": "python3"
  },
  "language_info": {
   "codemirror_mode": {
    "name": "ipython",
    "version": 3
   },
   "file_extension": ".py",
   "mimetype": "text/x-python",
   "name": "python",
   "nbconvert_exporter": "python",
   "pygments_lexer": "ipython3",
   "version": "3.9.12"
  }
 },
 "nbformat": 4,
 "nbformat_minor": 5
}
